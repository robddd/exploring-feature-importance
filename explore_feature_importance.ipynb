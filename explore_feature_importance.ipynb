{
 "cells": [
  {
   "cell_type": "markdown",
   "metadata": {},
   "source": [
    "# Exploring Feature Importance and Feature Interaction\n",
    "\n",
    "This notebook explores ideas around Feature Importance and Feature Interaction by generating a synthetic data set with fetures of different feature importance and interactivity. Its purpose is to validate using methods of feature importance and to explore methods of discovering features which have strong interaction with other features"
   ]
  },
  {
   "cell_type": "code",
   "execution_count": 5,
   "metadata": {
    "collapsed": true
   },
   "outputs": [],
   "source": [
    "%matplotlib inline\n",
    "# from fastai.imports import *\n",
    "import pandas as pd\n",
    "import numpy as np\n",
    "from sklearn.ensemble import RandomForestRegressor\n",
    "import matplotlib.pyplot as plt\n",
    "import math"
   ]
  },
  {
   "cell_type": "markdown",
   "metadata": {},
   "source": [
    "First create features from different random distributions. Features were designed to be roughly normalised with a range of [-1, 1]. Different distributions were used to see if this had an effect on feature importance."
   ]
  },
  {
   "cell_type": "code",
   "execution_count": 10,
   "metadata": {
    "collapsed": true
   },
   "outputs": [],
   "source": [
    "n_samples = 10000"
   ]
  },
  {
   "cell_type": "code",
   "execution_count": 11,
   "metadata": {
    "collapsed": true
   },
   "outputs": [],
   "source": [
    "x1 = np.random.normal(0, 0.4, n_samples)\n",
    "x2 = np.random.normal(0.02, 0.37, n_samples)\n",
    "x3 = np.random.normal(0, 0.2, n_samples)\n",
    "x4 = np.random.normal(0, 0.3, n_samples)\n",
    "x5 = np.random.normal(-1, 0.5, n_samples)\n",
    "x6 = np.random.lognormal(-1, 0.3, n_samples)\n",
    "x7 = np.random.lognormal(0, 0.4, n_samples) - 1.5\n",
    "x8 = np.random.uniform(-1, 1, n_samples)\n",
    "x9 = np.random.uniform(-1, 1, n_samples)\n",
    "x10 = np.random.uniform(-1, 1, n_samples)"
   ]
  },
  {
   "cell_type": "markdown",
   "metadata": {},
   "source": [
    "Example of a Normally distributed feature"
   ]
  },
  {
   "cell_type": "code",
   "execution_count": 13,
   "metadata": {
    "scrolled": true
   },
   "outputs": [
    {
     "data": {
      "image/png": "[encoded data removed]",
      "text/plain": [
       "<matplotlib.figure.Figure at 0x1a17cb57f0>"
      ]
     },
     "metadata": {},
     "output_type": "display_data"
    }
   ],
   "source": [
    "plt.hist(x4, bins=20)\n",
    "plt.show()"
   ]
  },
  {
   "cell_type": "code",
   "execution_count": null,
   "metadata": {
    "collapsed": true
   },
   "outputs": [],
   "source": [
    "Example of a log normal distributed feature"
   ]
  },
  {
   "cell_type": "code",
   "execution_count": 15,
   "metadata": {},
   "outputs": [
    {
     "data": {
      "image/png": "[encoded data removed]",
      "text/plain": [
       "<matplotlib.figure.Figure at 0x1a17cd8fd0>"
      ]
     },
     "metadata": {},
     "output_type": "display_data"
    }
   ],
   "source": [
    "plt.hist(x6, bins=20)\n",
    "plt.show()"
   ]
  },
  {
   "cell_type": "markdown",
   "metadata": {},
   "source": [
    "uniform dist"
   ]
  },
  {
   "cell_type": "code",
   "execution_count": 16,
   "metadata": {},
   "outputs": [
    {
     "data": {
      "image/png": "[encoded data removed]",
      "text/plain": [
       "<matplotlib.figure.Figure at 0x1a17a84978>"
      ]
     },
     "metadata": {},
     "output_type": "display_data"
    }
   ],
   "source": [
    "plt.hist(x10, bins=20)\n",
    "plt.show()"
   ]
  },
  {
   "cell_type": "markdown",
   "metadata": {},
   "source": [
    "Now we create our independent variable 'y'. "
   ]
  },
  {
   "cell_type": "code",
   "execution_count": 18,
   "metadata": {
    "collapsed": true
   },
   "outputs": [],
   "source": [
    "# Start with our strongest feature we want to see if we can find later x2-x1\n",
    "y = 10*(x2-x1)\n",
    "\n",
    "# give x1 a small amount of influence also on prediction\n",
    "y -= x1\n",
    "\n",
    "# give x2 a moderate amount of influence also on prediction\n",
    "y += 3*x2\n",
    "\n",
    "# give x3 the largest amount of singular prediction from any 1 variable\n",
    "y += 6*x3\n",
    "\n",
    "# give x4 the least (but not no) amount of prediction\n",
    "y += 0.2*x4\n",
    "\n",
    "# give x5 a small amount of prediction\n",
    "y -= 2*x5\n",
    "\n",
    "# give varying amounts for all other variables\n",
    "y += 4.5*x6\n",
    "y -= 3*x7\n",
    "y += 0.7*x8\n",
    "y -= 2*x9\n",
    "# x10 has no effect on y - redundant code below\n",
    "y += 0*x10 \n",
    "\n",
    "# Add one more weak correlation interaction\n",
    "y -= 5*(x4-x9)\n",
    "\n",
    "# Add a bias\n",
    "y += 32.5\n",
    "\n",
    "# Add some random noise\n",
    "y += np.random.normal(0, 1, y.shape)"
   ]
  },
  {
   "cell_type": "code",
   "execution_count": 19,
   "metadata": {},
   "outputs": [
    {
     "data": {
      "image/png": "[encoded data removed]",
      "text/plain": [
       "<matplotlib.figure.Figure at 0x1a0f5a3a58>"
      ]
     },
     "metadata": {},
     "output_type": "display_data"
    }
   ],
   "source": [
    "plt.hist(y, bins=20)\n",
    "plt.show()"
   ]
  },
  {
   "cell_type": "code",
   "execution_count": 20,
   "metadata": {},
   "outputs": [
    {
     "data": {
      "text/plain": [
       "(11.071337246179551, 64.236042068964792)"
      ]
     },
     "execution_count": 20,
     "metadata": {},
     "output_type": "execute_result"
    }
   ],
   "source": [
    "y.min(), y.max()"
   ]
  },
  {
   "cell_type": "markdown",
   "metadata": {},
   "source": [
    "stack all of our independent variables x1, x2, ..., x10 into a pd data frame. So that we can input them into our model"
   ]
  },
  {
   "cell_type": "code",
   "execution_count": 21,
   "metadata": {
    "collapsed": true
   },
   "outputs": [],
   "source": [
    "x = {'x1': x1, 'x2': x2, 'x3': x3, 'x4': x4, 'x5': x5,\n",
    "     'x6': x6, 'x7': x7, 'x8': x8, 'x9': x9, 'x10': x10}\n",
    "\n",
    "x = pd.DataFrame(x)"
   ]
  },
  {
   "cell_type": "code",
   "execution_count": 22,
   "metadata": {},
   "outputs": [
    {
     "data": {
      "text/html": [
       "<div>\n",
       "<style>\n",
       "    .dataframe thead tr:only-child th {\n",
       "        text-align: right;\n",
       "    }\n",
       "\n",
       "    .dataframe thead th {\n",
       "        text-align: left;\n",
       "    }\n",
       "\n",
       "    .dataframe tbody tr th {\n",
       "        vertical-align: top;\n",
       "    }\n",
       "</style>\n",
       "<table border=\"1\" class=\"dataframe\">\n",
       "  <thead>\n",
       "    <tr style=\"text-align: right;\">\n",
       "      <th></th>\n",
       "      <th>x1</th>\n",
       "      <th>x10</th>\n",
       "      <th>x2</th>\n",
       "      <th>x3</th>\n",
       "      <th>x4</th>\n",
       "      <th>x5</th>\n",
       "      <th>x6</th>\n",
       "      <th>x7</th>\n",
       "      <th>x8</th>\n",
       "      <th>x9</th>\n",
       "    </tr>\n",
       "  </thead>\n",
       "  <tbody>\n",
       "    <tr>\n",
       "      <th>0</th>\n",
       "      <td>-0.315701</td>\n",
       "      <td>-0.739690</td>\n",
       "      <td>0.178217</td>\n",
       "      <td>0.076200</td>\n",
       "      <td>-0.308587</td>\n",
       "      <td>0.099228</td>\n",
       "      <td>0.429301</td>\n",
       "      <td>-0.505149</td>\n",
       "      <td>-0.949489</td>\n",
       "      <td>-0.458234</td>\n",
       "    </tr>\n",
       "    <tr>\n",
       "      <th>1</th>\n",
       "      <td>0.187499</td>\n",
       "      <td>0.502676</td>\n",
       "      <td>0.178455</td>\n",
       "      <td>-0.246496</td>\n",
       "      <td>0.187389</td>\n",
       "      <td>-0.146690</td>\n",
       "      <td>0.381430</td>\n",
       "      <td>0.301302</td>\n",
       "      <td>-0.732399</td>\n",
       "      <td>-0.693020</td>\n",
       "    </tr>\n",
       "    <tr>\n",
       "      <th>2</th>\n",
       "      <td>-0.121356</td>\n",
       "      <td>0.617930</td>\n",
       "      <td>0.241300</td>\n",
       "      <td>0.279202</td>\n",
       "      <td>0.028579</td>\n",
       "      <td>-0.555617</td>\n",
       "      <td>0.290578</td>\n",
       "      <td>-0.794813</td>\n",
       "      <td>0.199009</td>\n",
       "      <td>-0.895047</td>\n",
       "    </tr>\n",
       "    <tr>\n",
       "      <th>3</th>\n",
       "      <td>-0.038622</td>\n",
       "      <td>-0.520185</td>\n",
       "      <td>0.090391</td>\n",
       "      <td>0.045961</td>\n",
       "      <td>-0.273389</td>\n",
       "      <td>-0.758547</td>\n",
       "      <td>0.353655</td>\n",
       "      <td>-0.452470</td>\n",
       "      <td>-0.201050</td>\n",
       "      <td>-0.018440</td>\n",
       "    </tr>\n",
       "    <tr>\n",
       "      <th>4</th>\n",
       "      <td>0.562953</td>\n",
       "      <td>-0.245100</td>\n",
       "      <td>-0.116438</td>\n",
       "      <td>-0.262834</td>\n",
       "      <td>0.197839</td>\n",
       "      <td>-1.543603</td>\n",
       "      <td>0.603919</td>\n",
       "      <td>-0.368395</td>\n",
       "      <td>-0.993657</td>\n",
       "      <td>0.851486</td>\n",
       "    </tr>\n",
       "  </tbody>\n",
       "</table>\n",
       "</div>"
      ],
      "text/plain": [
       "         x1       x10        x2        x3        x4        x5        x6  \\\n",
       "0 -0.315701 -0.739690  0.178217  0.076200 -0.308587  0.099228  0.429301   \n",
       "1  0.187499  0.502676  0.178455 -0.246496  0.187389 -0.146690  0.381430   \n",
       "2 -0.121356  0.617930  0.241300  0.279202  0.028579 -0.555617  0.290578   \n",
       "3 -0.038622 -0.520185  0.090391  0.045961 -0.273389 -0.758547  0.353655   \n",
       "4  0.562953 -0.245100 -0.116438 -0.262834  0.197839 -1.543603  0.603919   \n",
       "\n",
       "         x7        x8        x9  \n",
       "0 -0.505149 -0.949489 -0.458234  \n",
       "1  0.301302 -0.732399 -0.693020  \n",
       "2 -0.794813  0.199009 -0.895047  \n",
       "3 -0.452470 -0.201050 -0.018440  \n",
       "4 -0.368395 -0.993657  0.851486  "
      ]
     },
     "execution_count": 22,
     "metadata": {},
     "output_type": "execute_result"
    }
   ],
   "source": [
    "x.head()"
   ]
  },
  {
   "cell_type": "code",
   "execution_count": 23,
   "metadata": {},
   "outputs": [
    {
     "data": {
      "text/plain": [
       "(10000, 10)"
      ]
     },
     "execution_count": 23,
     "metadata": {},
     "output_type": "execute_result"
    }
   ],
   "source": [
    "x.shape"
   ]
  },
  {
   "cell_type": "markdown",
   "metadata": {},
   "source": [
    "Split dataset and labels into train, validate and test"
   ]
  },
  {
   "cell_type": "code",
   "execution_count": 28,
   "metadata": {
    "collapsed": true
   },
   "outputs": [],
   "source": [
    "x_trn, x_val, x_test = x.iloc[:8000, :], x.iloc[8000:9000, :], x.iloc[9000:, :]\n",
    "y_trn, y_val, y_test = y[:8000], y[8000:9000], y[9000:]"
   ]
  },
  {
   "cell_type": "code",
   "execution_count": 29,
   "metadata": {},
   "outputs": [
    {
     "data": {
      "text/plain": [
       "((8000, 10), (1000, 10), (1000, 10))"
      ]
     },
     "execution_count": 29,
     "metadata": {},
     "output_type": "execute_result"
    }
   ],
   "source": [
    "x_trn.shape, x_val.shape, x_test.shape"
   ]
  },
  {
   "cell_type": "code",
   "execution_count": 30,
   "metadata": {},
   "outputs": [
    {
     "data": {
      "text/plain": [
       "((8000,), (1000,), (1000,))"
      ]
     },
     "execution_count": 30,
     "metadata": {},
     "output_type": "execute_result"
    }
   ],
   "source": [
    "y_trn.shape, y_val.shape, y_test.shape"
   ]
  },
  {
   "cell_type": "code",
   "execution_count": 31,
   "metadata": {},
   "outputs": [],
   "source": [
    "m = RandomForestRegressor(n_estimators=50).fit(x_trn, y_trn)"
   ]
  },
  {
   "cell_type": "code",
   "execution_count": 32,
   "metadata": {},
   "outputs": [
    {
     "data": {
      "image/png": "[encoded data removed]",
      "text/plain": [
       "<matplotlib.figure.Figure at 0x1a17aa7908>"
      ]
     },
     "metadata": {},
     "output_type": "display_data"
    }
   ],
   "source": [
    "plt.scatter(y_trn, m.predict(x_trn))\n",
    "plt.show()"
   ]
  },
  {
   "cell_type": "code",
   "execution_count": 33,
   "metadata": {},
   "outputs": [
    {
     "data": {
      "text/plain": [
       "<matplotlib.collections.PathCollection at 0x1a17a7aac8>"
      ]
     },
     "execution_count": 33,
     "metadata": {},
     "output_type": "execute_result"
    },
    {
     "data": {
      "image/png": "[encoded data removed]",
      "text/plain": [
       "<matplotlib.figure.Figure at 0x1a1791de80>"
      ]
     },
     "metadata": {},
     "output_type": "display_data"
    }
   ],
   "source": [
    "plt.scatter(y_val, m.predict(x_val))"
   ]
  },
  {
   "cell_type": "code",
   "execution_count": 34,
   "metadata": {
    "collapsed": true
   },
   "outputs": [],
   "source": [
    "def rmse(x,y): return math.sqrt(((x-y)**2).mean())\n",
    "\n",
    "def print_score(m, pass_back=False):\n",
    "    res = [rmse(m.predict(x_trn), y_trn), rmse(m.predict(x_val), y_val),\n",
    "                m.score(x_trn, y_trn), m.score(x_val, y_val)]\n",
    "    if hasattr(m, 'oob_score_'): res.append(m.oob_score_)\n",
    "    print(res)\n",
    "    if pass_back:\n",
    "        return res"
   ]
  },
  {
   "cell_type": "code",
   "execution_count": 35,
   "metadata": {},
   "outputs": [
    {
     "name": "stdout",
     "output_type": "stream",
     "text": [
      "[0.7383850568938075, 1.8950727719029592, 0.98959534488071788, 0.92778527461429938]\n"
     ]
    }
   ],
   "source": [
    "scores = print_score(m)"
   ]
  },
  {
   "cell_type": "code",
   "execution_count": null,
   "metadata": {
    "collapsed": true
   },
   "outputs": [],
   "source": [
    "# Too much noise in the model when plotted on the validation set"
   ]
  },
  {
   "cell_type": "code",
   "execution_count": 150,
   "metadata": {},
   "outputs": [
    {
     "name": "stdout",
     "output_type": "stream",
     "text": [
      "\n",
      "training a model...\n"
     ]
    },
    {
     "name": "stderr",
     "output_type": "stream",
     "text": [
      "/Users/robertdumbleton/anaconda3/envs/fastai-cpu/lib/python3.6/site-packages/sklearn/ensemble/forest.py:732: UserWarning: Some inputs do not have OOB scores. This probably means too few trees were used to compute any reliable oob estimates.\n",
      "  warn(\"Some inputs do not have OOB scores. \"\n"
     ]
    },
    {
     "name": "stdout",
     "output_type": "stream",
     "text": [
      "[1.3956400393994124, 2.8686921956673945, 0.9630627887120348, 0.8295242378975726, 0.7373078374130321]\n",
      "\n",
      "Just fininised training this combo:\n",
      "{'n_estimators': 10, 'min_samples_leaf': 2, 'max_features': 0.5, 'rmse_train': 1.3956400393994124, 'rmse_valid': 2.8686921956673945, 'r-squared_train': 0.9630627887120348, 'r-squared_valid': 0.8295242378975726, 'r-squared_oob': 0.7373078374130321, 'time': 0.11}\n",
      "\n",
      "training a model...\n",
      "[1.2844808057723576, 2.851375829627511, 0.9687123819886242, 0.8315761213445654, 0.8470945055210524]\n",
      "\n",
      "Just fininised training this combo:\n",
      "{'n_estimators': 20, 'min_samples_leaf': 2, 'max_features': 0.5, 'rmse_train': 1.2844808057723576, 'rmse_valid': 2.851375829627511, 'r-squared_train': 0.9687123819886242, 'r-squared_valid': 0.8315761213445654, 'r-squared_oob': 0.8470945055210524, 'time': 0.12}\n",
      "\n",
      "training a model...\n",
      "[1.1736747400204857, 2.744330829642334, 0.9738776178614328, 0.8439845292822356, 0.8699430036428457]\n",
      "\n",
      "Just fininised training this combo:\n",
      "{'n_estimators': 50, 'min_samples_leaf': 2, 'max_features': 0.5, 'rmse_train': 1.1736747400204857, 'rmse_valid': 2.744330829642334, 'r-squared_train': 0.9738776178614328, 'r-squared_valid': 0.8439845292822356, 'r-squared_oob': 0.8699430036428457, 'time': 0.13}\n",
      "\n",
      "training a model...\n",
      "[1.129322548043579, 2.6510792649137414, 0.975814600721955, 0.8544071113819542, 0.8824138486070677]\n",
      "\n",
      "Just fininised training this combo:\n",
      "{'n_estimators': 80, 'min_samples_leaf': 2, 'max_features': 0.5, 'rmse_train': 1.129322548043579, 'rmse_valid': 2.6510792649137414, 'r-squared_train': 0.975814600721955, 'r-squared_valid': 0.8544071113819542, 'r-squared_oob': 0.8824138486070677, 'time': 0.15}\n",
      "\n",
      "training a model...\n",
      "[1.1595335467378123, 2.7625363500167515, 0.974503304428815, 0.8419076921708988, 0.8772033290245435]\n",
      "\n",
      "Just fininised training this combo:\n",
      "{'n_estimators': 100, 'min_samples_leaf': 2, 'max_features': 0.5, 'rmse_train': 1.1595335467378123, 'rmse_valid': 2.7625363500167515, 'r-squared_train': 0.974503304428815, 'r-squared_valid': 0.8419076921708988, 'r-squared_oob': 0.8772033290245435, 'time': 0.27}\n",
      "\n",
      "training a model...\n",
      "[1.129834868398682, 2.687610866458238, 0.975792652195558, 0.8503669551163755, 0.8828794705906731]\n",
      "\n",
      "Just fininised training this combo:\n",
      "{'n_estimators': 150, 'min_samples_leaf': 2, 'max_features': 0.5, 'rmse_train': 1.129834868398682, 'rmse_valid': 2.687610866458238, 'r-squared_train': 0.975792652195558, 'r-squared_valid': 0.8503669551163755, 'r-squared_oob': 0.8828794705906731, 'time': 0.3}\n",
      "\n",
      "training a model...\n",
      "[1.1355913799650514, 2.72177254432624, 0.975545350796871, 0.8465388690381493, 0.8829427023189114]\n",
      "\n",
      "Just fininised training this combo:\n",
      "{'n_estimators': 300, 'min_samples_leaf': 2, 'max_features': 0.5, 'rmse_train': 1.1355913799650514, 'rmse_valid': 2.72177254432624, 'r-squared_train': 0.975545350796871, 'r-squared_valid': 0.8465388690381493, 'r-squared_oob': 0.8829427023189114, 'time': 0.47}\n",
      "\n",
      "training a model...\n",
      "[1.1308089090739948, 2.6919639694398527, 0.9757508954647824, 0.8498818435476433, 0.8839959161827469]\n",
      "\n",
      "Just fininised training this combo:\n",
      "{'n_estimators': 500, 'min_samples_leaf': 2, 'max_features': 0.5, 'rmse_train': 1.1308089090739948, 'rmse_valid': 2.6919639694398527, 'r-squared_train': 0.9757508954647824, 'r-squared_valid': 0.8498818435476433, 'r-squared_oob': 0.8839959161827469, 'time': 0.78}\n"
     ]
    }
   ],
   "source": [
    "# set hyper parameter search space\n",
    "hps = {\n",
    "    'n_ests': [10, 20, 50, 80, 100, 150, 300, 500],\n",
    "    'msls': [2],\n",
    "    'max_features': [0.5]\n",
    "}\n",
    "\n",
    "# create new dataframe to store results\n",
    "hp_cols = ['n_estimators', 'min_samples_leaf', 'max_features',\n",
    "           'rmse_train', 'rmse_valid', 'r-squared_train',\n",
    "           'r-squared_valid', 'r-squared_oob']\n",
    "hp_results = pd.DataFrame(columns=hp_cols)\n",
    "\n",
    "# grid search different hyper parameters\n",
    "for n_est in hps['n_ests']:\n",
    "    for msl in hps['msls']:\n",
    "        for max_feat in hps['max_features']:\n",
    "            t0 = time.time()\n",
    "            print('\\ntraining a model...')\n",
    "            m = RandomForestRegressor(n_estimators=n_est, min_samples_leaf=msl, \n",
    "                          max_features=max_feat, n_jobs=-1, oob_score=True)\n",
    "            m.fit(x_trn, y_trn)\n",
    "            t1 = time.time()\n",
    "            scores = print_score(m, pass_back=True)\n",
    "            row = {}\n",
    "            row['n_estimators'] = n_est\n",
    "            row['min_samples_leaf'] = msl\n",
    "            row['max_features'] = max_feat\n",
    "            row['rmse_train'] = scores[0]\n",
    "            row['rmse_valid'] = scores[1]\n",
    "            row['r-squared_train'] = scores[2]\n",
    "            row['r-squared_valid'] = scores[3]\n",
    "            row['r-squared_oob'] = scores[4]\n",
    "            row['time'] = round(t1-t0, 2)\n",
    "            print(f'\\nJust fininised training this combo:\\n{row}')\n",
    "            hp_results = hp_results.append(row, ignore_index=True)\n",
    "            hp_results.to_csv('synthetic_search.csv', index=False)"
   ]
  },
  {
   "cell_type": "code",
   "execution_count": 151,
   "metadata": {},
   "outputs": [
    {
     "data": {
      "text/html": [
       "<div>\n",
       "<style scoped>\n",
       "    .dataframe tbody tr th:only-of-type {\n",
       "        vertical-align: middle;\n",
       "    }\n",
       "\n",
       "    .dataframe tbody tr th {\n",
       "        vertical-align: top;\n",
       "    }\n",
       "\n",
       "    .dataframe thead th {\n",
       "        text-align: right;\n",
       "    }\n",
       "</style>\n",
       "<table border=\"1\" class=\"dataframe\">\n",
       "  <thead>\n",
       "    <tr style=\"text-align: right;\">\n",
       "      <th></th>\n",
       "      <th>n_estimators</th>\n",
       "      <th>min_samples_leaf</th>\n",
       "      <th>max_features</th>\n",
       "      <th>rmse_train</th>\n",
       "      <th>rmse_valid</th>\n",
       "      <th>r-squared_train</th>\n",
       "      <th>r-squared_valid</th>\n",
       "      <th>r-squared_oob</th>\n",
       "      <th>time</th>\n",
       "    </tr>\n",
       "  </thead>\n",
       "  <tbody>\n",
       "    <tr>\n",
       "      <th>3</th>\n",
       "      <td>80.0</td>\n",
       "      <td>2.0</td>\n",
       "      <td>0.5</td>\n",
       "      <td>1.129323</td>\n",
       "      <td>2.651079</td>\n",
       "      <td>0.975815</td>\n",
       "      <td>0.854407</td>\n",
       "      <td>0.882414</td>\n",
       "      <td>0.15</td>\n",
       "    </tr>\n",
       "    <tr>\n",
       "      <th>5</th>\n",
       "      <td>150.0</td>\n",
       "      <td>2.0</td>\n",
       "      <td>0.5</td>\n",
       "      <td>1.129835</td>\n",
       "      <td>2.687611</td>\n",
       "      <td>0.975793</td>\n",
       "      <td>0.850367</td>\n",
       "      <td>0.882879</td>\n",
       "      <td>0.30</td>\n",
       "    </tr>\n",
       "    <tr>\n",
       "      <th>7</th>\n",
       "      <td>500.0</td>\n",
       "      <td>2.0</td>\n",
       "      <td>0.5</td>\n",
       "      <td>1.130809</td>\n",
       "      <td>2.691964</td>\n",
       "      <td>0.975751</td>\n",
       "      <td>0.849882</td>\n",
       "      <td>0.883996</td>\n",
       "      <td>0.78</td>\n",
       "    </tr>\n",
       "    <tr>\n",
       "      <th>6</th>\n",
       "      <td>300.0</td>\n",
       "      <td>2.0</td>\n",
       "      <td>0.5</td>\n",
       "      <td>1.135591</td>\n",
       "      <td>2.721773</td>\n",
       "      <td>0.975545</td>\n",
       "      <td>0.846539</td>\n",
       "      <td>0.882943</td>\n",
       "      <td>0.47</td>\n",
       "    </tr>\n",
       "    <tr>\n",
       "      <th>2</th>\n",
       "      <td>50.0</td>\n",
       "      <td>2.0</td>\n",
       "      <td>0.5</td>\n",
       "      <td>1.173675</td>\n",
       "      <td>2.744331</td>\n",
       "      <td>0.973878</td>\n",
       "      <td>0.843985</td>\n",
       "      <td>0.869943</td>\n",
       "      <td>0.13</td>\n",
       "    </tr>\n",
       "    <tr>\n",
       "      <th>4</th>\n",
       "      <td>100.0</td>\n",
       "      <td>2.0</td>\n",
       "      <td>0.5</td>\n",
       "      <td>1.159534</td>\n",
       "      <td>2.762536</td>\n",
       "      <td>0.974503</td>\n",
       "      <td>0.841908</td>\n",
       "      <td>0.877203</td>\n",
       "      <td>0.27</td>\n",
       "    </tr>\n",
       "    <tr>\n",
       "      <th>1</th>\n",
       "      <td>20.0</td>\n",
       "      <td>2.0</td>\n",
       "      <td>0.5</td>\n",
       "      <td>1.284481</td>\n",
       "      <td>2.851376</td>\n",
       "      <td>0.968712</td>\n",
       "      <td>0.831576</td>\n",
       "      <td>0.847095</td>\n",
       "      <td>0.12</td>\n",
       "    </tr>\n",
       "    <tr>\n",
       "      <th>0</th>\n",
       "      <td>10.0</td>\n",
       "      <td>2.0</td>\n",
       "      <td>0.5</td>\n",
       "      <td>1.395640</td>\n",
       "      <td>2.868692</td>\n",
       "      <td>0.963063</td>\n",
       "      <td>0.829524</td>\n",
       "      <td>0.737308</td>\n",
       "      <td>0.11</td>\n",
       "    </tr>\n",
       "  </tbody>\n",
       "</table>\n",
       "</div>"
      ],
      "text/plain": [
       "   n_estimators  min_samples_leaf  max_features  rmse_train  rmse_valid  \\\n",
       "3          80.0               2.0           0.5    1.129323    2.651079   \n",
       "5         150.0               2.0           0.5    1.129835    2.687611   \n",
       "7         500.0               2.0           0.5    1.130809    2.691964   \n",
       "6         300.0               2.0           0.5    1.135591    2.721773   \n",
       "2          50.0               2.0           0.5    1.173675    2.744331   \n",
       "4         100.0               2.0           0.5    1.159534    2.762536   \n",
       "1          20.0               2.0           0.5    1.284481    2.851376   \n",
       "0          10.0               2.0           0.5    1.395640    2.868692   \n",
       "\n",
       "   r-squared_train  r-squared_valid  r-squared_oob  time  \n",
       "3         0.975815         0.854407       0.882414  0.15  \n",
       "5         0.975793         0.850367       0.882879  0.30  \n",
       "7         0.975751         0.849882       0.883996  0.78  \n",
       "6         0.975545         0.846539       0.882943  0.47  \n",
       "2         0.973878         0.843985       0.869943  0.13  \n",
       "4         0.974503         0.841908       0.877203  0.27  \n",
       "1         0.968712         0.831576       0.847095  0.12  \n",
       "0         0.963063         0.829524       0.737308  0.11  "
      ]
     },
     "execution_count": 151,
     "metadata": {},
     "output_type": "execute_result"
    }
   ],
   "source": [
    "hp_results = hp_results.sort_values(['rmse_valid'], ascending=True)\n",
    "hp_results.head(10)"
   ]
  },
  {
   "cell_type": "code",
   "execution_count": 143,
   "metadata": {},
   "outputs": [
    {
     "data": {
      "text/html": [
       "<div>\n",
       "<style scoped>\n",
       "    .dataframe tbody tr th:only-of-type {\n",
       "        vertical-align: middle;\n",
       "    }\n",
       "\n",
       "    .dataframe tbody tr th {\n",
       "        vertical-align: top;\n",
       "    }\n",
       "\n",
       "    .dataframe thead th {\n",
       "        text-align: right;\n",
       "    }\n",
       "</style>\n",
       "<table border=\"1\" class=\"dataframe\">\n",
       "  <thead>\n",
       "    <tr style=\"text-align: right;\">\n",
       "      <th></th>\n",
       "      <th>n_estimators</th>\n",
       "      <th>min_samples_leaf</th>\n",
       "      <th>max_features</th>\n",
       "      <th>auroc_train</th>\n",
       "      <th>auroc_valid</th>\n",
       "      <th>r-squared_train</th>\n",
       "      <th>r-squared_valid</th>\n",
       "      <th>r-squared_oob</th>\n",
       "      <th>rmse_train</th>\n",
       "      <th>rmse_valid</th>\n",
       "      <th>time</th>\n",
       "    </tr>\n",
       "  </thead>\n",
       "  <tbody>\n",
       "    <tr>\n",
       "      <th>3</th>\n",
       "      <td>35.0</td>\n",
       "      <td>8.0</td>\n",
       "      <td>0.6</td>\n",
       "      <td>NaN</td>\n",
       "      <td>NaN</td>\n",
       "      <td>0.916548</td>\n",
       "      <td>0.807108</td>\n",
       "      <td>0.845753</td>\n",
       "      <td>2.097776</td>\n",
       "      <td>3.051476</td>\n",
       "      <td>0.12</td>\n",
       "    </tr>\n",
       "    <tr>\n",
       "      <th>27</th>\n",
       "      <td>140.0</td>\n",
       "      <td>8.0</td>\n",
       "      <td>0.6</td>\n",
       "      <td>NaN</td>\n",
       "      <td>NaN</td>\n",
       "      <td>0.922056</td>\n",
       "      <td>0.806922</td>\n",
       "      <td>0.856173</td>\n",
       "      <td>2.027374</td>\n",
       "      <td>3.052944</td>\n",
       "      <td>0.18</td>\n",
       "    </tr>\n",
       "    <tr>\n",
       "      <th>15</th>\n",
       "      <td>70.0</td>\n",
       "      <td>8.0</td>\n",
       "      <td>0.6</td>\n",
       "      <td>NaN</td>\n",
       "      <td>NaN</td>\n",
       "      <td>0.918104</td>\n",
       "      <td>0.806095</td>\n",
       "      <td>0.851699</td>\n",
       "      <td>2.078135</td>\n",
       "      <td>3.059476</td>\n",
       "      <td>0.14</td>\n",
       "    </tr>\n",
       "    <tr>\n",
       "      <th>26</th>\n",
       "      <td>140.0</td>\n",
       "      <td>8.0</td>\n",
       "      <td>0.4</td>\n",
       "      <td>NaN</td>\n",
       "      <td>NaN</td>\n",
       "      <td>0.906908</td>\n",
       "      <td>0.806093</td>\n",
       "      <td>0.838034</td>\n",
       "      <td>2.215636</td>\n",
       "      <td>3.059492</td>\n",
       "      <td>0.18</td>\n",
       "    </tr>\n",
       "    <tr>\n",
       "      <th>14</th>\n",
       "      <td>70.0</td>\n",
       "      <td>8.0</td>\n",
       "      <td>0.4</td>\n",
       "      <td>NaN</td>\n",
       "      <td>NaN</td>\n",
       "      <td>0.907048</td>\n",
       "      <td>0.800705</td>\n",
       "      <td>0.835556</td>\n",
       "      <td>2.213965</td>\n",
       "      <td>3.101707</td>\n",
       "      <td>0.15</td>\n",
       "    </tr>\n",
       "    <tr>\n",
       "      <th>2</th>\n",
       "      <td>35.0</td>\n",
       "      <td>8.0</td>\n",
       "      <td>0.4</td>\n",
       "      <td>NaN</td>\n",
       "      <td>NaN</td>\n",
       "      <td>0.904053</td>\n",
       "      <td>0.781322</td>\n",
       "      <td>0.827398</td>\n",
       "      <td>2.249352</td>\n",
       "      <td>3.249041</td>\n",
       "      <td>0.13</td>\n",
       "    </tr>\n",
       "    <tr>\n",
       "      <th>19</th>\n",
       "      <td>70.0</td>\n",
       "      <td>16.0</td>\n",
       "      <td>0.6</td>\n",
       "      <td>NaN</td>\n",
       "      <td>NaN</td>\n",
       "      <td>0.867825</td>\n",
       "      <td>0.769531</td>\n",
       "      <td>0.810196</td>\n",
       "      <td>2.640077</td>\n",
       "      <td>3.335481</td>\n",
       "      <td>0.15</td>\n",
       "    </tr>\n",
       "    <tr>\n",
       "      <th>31</th>\n",
       "      <td>140.0</td>\n",
       "      <td>16.0</td>\n",
       "      <td>0.6</td>\n",
       "      <td>NaN</td>\n",
       "      <td>NaN</td>\n",
       "      <td>0.868865</td>\n",
       "      <td>0.762685</td>\n",
       "      <td>0.819105</td>\n",
       "      <td>2.629663</td>\n",
       "      <td>3.384661</td>\n",
       "      <td>0.18</td>\n",
       "    </tr>\n",
       "    <tr>\n",
       "      <th>7</th>\n",
       "      <td>35.0</td>\n",
       "      <td>16.0</td>\n",
       "      <td>0.6</td>\n",
       "      <td>NaN</td>\n",
       "      <td>NaN</td>\n",
       "      <td>0.869331</td>\n",
       "      <td>0.762557</td>\n",
       "      <td>0.811657</td>\n",
       "      <td>2.624992</td>\n",
       "      <td>3.385575</td>\n",
       "      <td>0.12</td>\n",
       "    </tr>\n",
       "    <tr>\n",
       "      <th>30</th>\n",
       "      <td>140.0</td>\n",
       "      <td>16.0</td>\n",
       "      <td>0.4</td>\n",
       "      <td>NaN</td>\n",
       "      <td>NaN</td>\n",
       "      <td>0.851966</td>\n",
       "      <td>0.762018</td>\n",
       "      <td>0.797225</td>\n",
       "      <td>2.793968</td>\n",
       "      <td>3.389414</td>\n",
       "      <td>0.17</td>\n",
       "    </tr>\n",
       "  </tbody>\n",
       "</table>\n",
       "</div>"
      ],
      "text/plain": [
       "    n_estimators  min_samples_leaf  max_features  auroc_train  auroc_valid  \\\n",
       "3           35.0               8.0           0.6          NaN          NaN   \n",
       "27         140.0               8.0           0.6          NaN          NaN   \n",
       "15          70.0               8.0           0.6          NaN          NaN   \n",
       "26         140.0               8.0           0.4          NaN          NaN   \n",
       "14          70.0               8.0           0.4          NaN          NaN   \n",
       "2           35.0               8.0           0.4          NaN          NaN   \n",
       "19          70.0              16.0           0.6          NaN          NaN   \n",
       "31         140.0              16.0           0.6          NaN          NaN   \n",
       "7           35.0              16.0           0.6          NaN          NaN   \n",
       "30         140.0              16.0           0.4          NaN          NaN   \n",
       "\n",
       "    r-squared_train  r-squared_valid  r-squared_oob  rmse_train  rmse_valid  \\\n",
       "3          0.916548         0.807108       0.845753    2.097776    3.051476   \n",
       "27         0.922056         0.806922       0.856173    2.027374    3.052944   \n",
       "15         0.918104         0.806095       0.851699    2.078135    3.059476   \n",
       "26         0.906908         0.806093       0.838034    2.215636    3.059492   \n",
       "14         0.907048         0.800705       0.835556    2.213965    3.101707   \n",
       "2          0.904053         0.781322       0.827398    2.249352    3.249041   \n",
       "19         0.867825         0.769531       0.810196    2.640077    3.335481   \n",
       "31         0.868865         0.762685       0.819105    2.629663    3.384661   \n",
       "7          0.869331         0.762557       0.811657    2.624992    3.385575   \n",
       "30         0.851966         0.762018       0.797225    2.793968    3.389414   \n",
       "\n",
       "    time  \n",
       "3   0.12  \n",
       "27  0.18  \n",
       "15  0.14  \n",
       "26  0.18  \n",
       "14  0.15  \n",
       "2   0.13  \n",
       "19  0.15  \n",
       "31  0.18  \n",
       "7   0.12  \n",
       "30  0.17  "
      ]
     },
     "execution_count": 143,
     "metadata": {},
     "output_type": "execute_result"
    }
   ],
   "source": [
    "hp_results = hp_results.sort_values(['rmse_valid'], ascending=True)\n",
    "hp_results.head(10)"
   ]
  },
  {
   "cell_type": "code",
   "execution_count": null,
   "metadata": {
    "collapsed": true
   },
   "outputs": [],
   "source": [
    "2, 5, and 80 look like decent params"
   ]
  },
  {
   "cell_type": "code",
   "execution_count": 193,
   "metadata": {},
   "outputs": [
    {
     "data": {
      "text/plain": [
       "RandomForestRegressor(bootstrap=True, criterion='mse', max_depth=None,\n",
       "           max_features=0.5, max_leaf_nodes=None,\n",
       "           min_impurity_decrease=0.0, min_impurity_split=None,\n",
       "           min_samples_leaf=2, min_samples_split=2,\n",
       "           min_weight_fraction_leaf=0.0, n_estimators=80, n_jobs=None,\n",
       "           oob_score=False, random_state=None, verbose=0, warm_start=False)"
      ]
     },
     "execution_count": 193,
     "metadata": {},
     "output_type": "execute_result"
    }
   ],
   "source": [
    "m = RandomForestRegressor(n_estimators=80, min_samples_leaf=2, max_features=0.5)\n",
    "m.fit(x_trn, y_trn)"
   ]
  },
  {
   "cell_type": "code",
   "execution_count": 194,
   "metadata": {},
   "outputs": [
    {
     "data": {
      "text/plain": [
       "<matplotlib.collections.PathCollection at 0x1090dba90>"
      ]
     },
     "execution_count": 194,
     "metadata": {},
     "output_type": "execute_result"
    },
    {
     "data": {
      "image/png": "[encoded data removed]",
      "text/plain": [
       "<Figure size 432x288 with 1 Axes>"
      ]
     },
     "metadata": {
      "needs_background": "light"
     },
     "output_type": "display_data"
    }
   ],
   "source": [
    "plt.scatter(y_trn, m.predict(x_trn))"
   ]
  },
  {
   "cell_type": "code",
   "execution_count": 195,
   "metadata": {},
   "outputs": [
    {
     "data": {
      "text/plain": [
       "<matplotlib.collections.PathCollection at 0x1c27f4df28>"
      ]
     },
     "execution_count": 195,
     "metadata": {},
     "output_type": "execute_result"
    },
    {
     "data": {
      "image/png": "[encoded data removed]",
      "text/plain": [
       "<Figure size 432x288 with 1 Axes>"
      ]
     },
     "metadata": {
      "needs_background": "light"
     },
     "output_type": "display_data"
    }
   ],
   "source": [
    "plt.scatter(y_val, m.predict(x_val))"
   ]
  },
  {
   "cell_type": "code",
   "execution_count": 196,
   "metadata": {},
   "outputs": [
    {
     "name": "stdout",
     "output_type": "stream",
     "text": [
      "[0.858913795008536, 1.9795882074055693, 0.9859333990316793, 0.9304046452014891]\n"
     ]
    }
   ],
   "source": [
    "scores = print_score(m)"
   ]
  },
  {
   "cell_type": "code",
   "execution_count": null,
   "metadata": {
    "collapsed": true
   },
   "outputs": [],
   "source": [
    "# Now - Feature importance"
   ]
  },
  {
   "cell_type": "code",
   "execution_count": 191,
   "metadata": {
    "collapsed": true
   },
   "outputs": [],
   "source": [
    "df_importance = pd.DataFrame()\n",
    "for col in x_val.columns:\n",
    "    x_shuffle = x_val.copy()\n",
    "    shuffled_column = x_shuffle[col].values\n",
    "    np.random.shuffle(shuffled_column)\n",
    "    x_shuffle[col] = shuffled_column\n",
    "    rmse_score = rmse(y_val, m.predict(x_shuffle))\n",
    "    row = {}\n",
    "    row['col'] = col\n",
    "    row['score'] = rmse_score\n",
    "    df_importance = df_importance.append(row, ignore_index=True)\n",
    "\n",
    "df_importance = df_importance.sort_values(by='score')"
   ]
  },
  {
   "cell_type": "code",
   "execution_count": 192,
   "metadata": {},
   "outputs": [
    {
     "data": {
      "text/html": [
       "<div>\n",
       "<style scoped>\n",
       "    .dataframe tbody tr th:only-of-type {\n",
       "        vertical-align: middle;\n",
       "    }\n",
       "\n",
       "    .dataframe tbody tr th {\n",
       "        vertical-align: top;\n",
       "    }\n",
       "\n",
       "    .dataframe thead th {\n",
       "        text-align: right;\n",
       "    }\n",
       "</style>\n",
       "<table border=\"1\" class=\"dataframe\">\n",
       "  <thead>\n",
       "    <tr style=\"text-align: right;\">\n",
       "      <th></th>\n",
       "      <th>col</th>\n",
       "      <th>score</th>\n",
       "      <th>error_diff</th>\n",
       "    </tr>\n",
       "  </thead>\n",
       "  <tbody>\n",
       "    <tr>\n",
       "      <th>1</th>\n",
       "      <td>x2</td>\n",
       "      <td>6.821676</td>\n",
       "      <td>-5.974777</td>\n",
       "    </tr>\n",
       "    <tr>\n",
       "      <th>0</th>\n",
       "      <td>x1</td>\n",
       "      <td>6.794578</td>\n",
       "      <td>-5.947679</td>\n",
       "    </tr>\n",
       "    <tr>\n",
       "      <th>8</th>\n",
       "      <td>x9</td>\n",
       "      <td>2.816958</td>\n",
       "      <td>-1.970059</td>\n",
       "    </tr>\n",
       "    <tr>\n",
       "      <th>3</th>\n",
       "      <td>x4</td>\n",
       "      <td>2.572822</td>\n",
       "      <td>-1.725924</td>\n",
       "    </tr>\n",
       "    <tr>\n",
       "      <th>6</th>\n",
       "      <td>x7</td>\n",
       "      <td>2.501193</td>\n",
       "      <td>-1.654295</td>\n",
       "    </tr>\n",
       "    <tr>\n",
       "      <th>2</th>\n",
       "      <td>x3</td>\n",
       "      <td>2.297550</td>\n",
       "      <td>-1.450651</td>\n",
       "    </tr>\n",
       "    <tr>\n",
       "      <th>4</th>\n",
       "      <td>x5</td>\n",
       "      <td>2.169139</td>\n",
       "      <td>-1.322241</td>\n",
       "    </tr>\n",
       "    <tr>\n",
       "      <th>5</th>\n",
       "      <td>x6</td>\n",
       "      <td>2.027261</td>\n",
       "      <td>-1.180363</td>\n",
       "    </tr>\n",
       "    <tr>\n",
       "      <th>7</th>\n",
       "      <td>x8</td>\n",
       "      <td>2.009967</td>\n",
       "      <td>-1.163068</td>\n",
       "    </tr>\n",
       "    <tr>\n",
       "      <th>9</th>\n",
       "      <td>x10</td>\n",
       "      <td>1.965821</td>\n",
       "      <td>-1.118922</td>\n",
       "    </tr>\n",
       "  </tbody>\n",
       "</table>\n",
       "</div>"
      ],
      "text/plain": [
       "   col     score  error_diff\n",
       "1   x2  6.821676   -5.974777\n",
       "0   x1  6.794578   -5.947679\n",
       "8   x9  2.816958   -1.970059\n",
       "3   x4  2.572822   -1.725924\n",
       "6   x7  2.501193   -1.654295\n",
       "2   x3  2.297550   -1.450651\n",
       "4   x5  2.169139   -1.322241\n",
       "5   x6  2.027261   -1.180363\n",
       "7   x8  2.009967   -1.163068\n",
       "9  x10  1.965821   -1.118922"
      ]
     },
     "execution_count": 192,
     "metadata": {},
     "output_type": "execute_result"
    }
   ],
   "source": [
    "top_ten_fi_vars = df_importance.reset_index(drop=True).iloc[:10, 0].values\n",
    "\n",
    "full_score = 0.8468986747170683\n",
    "df_importance['error_diff'] = full_score - df_importance['score']\n",
    "\n",
    "error_diffs = {row['col']: row['error_diff'] for i, row in df_importance.iterrows()}\n",
    "\n",
    "df_importance = df_importance.sort_values(by='error_diff', ascending=True)\n",
    "df_importance.head(10)"
   ]
  },
  {
   "cell_type": "code",
   "execution_count": null,
   "metadata": {
    "collapsed": true
   },
   "outputs": [],
   "source": []
  }
 ],
 "metadata": {
  "kernelspec": {
   "display_name": "Python 3",
   "language": "python",
   "name": "python3"
  },
  "language_info": {
   "codemirror_mode": {
    "name": "ipython",
    "version": 3
   },
   "file_extension": ".py",
   "mimetype": "text/x-python",
   "name": "python",
   "nbconvert_exporter": "python",
   "pygments_lexer": "ipython3",
   "version": "3.6.3"
  }
 },
 "nbformat": 4,
 "nbformat_minor": 2
}
