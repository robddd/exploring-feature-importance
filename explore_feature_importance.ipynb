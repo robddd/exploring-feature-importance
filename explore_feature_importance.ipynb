{
 "cells": [
  {
   "cell_type": "markdown",
   "metadata": {},
   "source": [
    "# Exploring Feature Importance and Feature Interaction\n",
    "\n",
    "This notebook explores ideas around Feature Importance and Feature Interaction by generating a synthetic data set with fetures of different feature importance and interactivity. Its purpose is to validate using methods of feature importance and to explore methods of discovering features which have strong interaction with other features.\n",
    "\n",
    "A lot of these ideas come from the excellent 'fastai' course 'Introduction to Machine Learning for Coders' http://course18.fast.ai/ml"
   ]
  },
  {
   "cell_type": "code",
   "execution_count": 1,
   "metadata": {
    "collapsed": true
   },
   "outputs": [],
   "source": [
    "%matplotlib inline\n",
    "import pandas as pd\n",
    "import numpy as np\n",
    "from sklearn.ensemble import RandomForestRegressor\n",
    "import matplotlib.pyplot as plt\n",
    "import math"
   ]
  },
  {
   "cell_type": "markdown",
   "metadata": {},
   "source": [
    "First create features from different random distributions. Features were designed to be roughly normalised with a range of [-1, 1]. Different distributions were used to see if this had an effect on feature importance."
   ]
  },
  {
   "cell_type": "code",
   "execution_count": 2,
   "metadata": {
    "collapsed": true
   },
   "outputs": [],
   "source": [
    "n_samples = 10000"
   ]
  },
  {
   "cell_type": "code",
   "execution_count": 3,
   "metadata": {
    "collapsed": true
   },
   "outputs": [],
   "source": [
    "x1 = np.random.normal(0, 0.4, n_samples)\n",
    "x2 = np.random.normal(0.02, 0.37, n_samples)\n",
    "x3 = np.random.normal(0, 0.2, n_samples)\n",
    "x4 = np.random.normal(0, 0.3, n_samples)\n",
    "x5 = np.random.normal(-1, 0.5, n_samples)\n",
    "x6 = np.random.lognormal(-1, 0.3, n_samples)\n",
    "x7 = np.random.lognormal(0, 0.4, n_samples) - 1.5\n",
    "x8 = np.random.uniform(-1, 1, n_samples)\n",
    "x9 = np.random.uniform(-1, 1, n_samples)\n",
    "x10 = np.random.uniform(-1, 1, n_samples)"
   ]
  },
  {
   "cell_type": "markdown",
   "metadata": {},
   "source": [
    "Example of a Normally distributed feature"
   ]
  },
  {
   "cell_type": "code",
   "execution_count": 4,
   "metadata": {
    "scrolled": true
   },
   "outputs": [
    {
     "data": {
      "image/png": "[encoded data removed]",
      "text/plain": [
       "<matplotlib.figure.Figure at 0x1a0b29f390>"
      ]
     },
     "metadata": {},
     "output_type": "display_data"
    }
   ],
   "source": [
    "plt.hist(x4, bins=20)\n",
    "plt.show()"
   ]
  },
  {
   "cell_type": "markdown",
   "metadata": {
    "collapsed": true
   },
   "source": [
    "Example of a log normal distributed feature"
   ]
  },
  {
   "cell_type": "code",
   "execution_count": 7,
   "metadata": {},
   "outputs": [
    {
     "data": {
      "image/png": "[encoded data removed]",
      "text/plain": [
       "<matplotlib.figure.Figure at 0x1a13645cf8>"
      ]
     },
     "metadata": {},
     "output_type": "display_data"
    }
   ],
   "source": [
    "plt.hist(x6, bins=20)\n",
    "plt.show()"
   ]
  },
  {
   "cell_type": "markdown",
   "metadata": {},
   "source": [
    "uniform dist"
   ]
  },
  {
   "cell_type": "code",
   "execution_count": 8,
   "metadata": {},
   "outputs": [
    {
     "data": {
      "image/png": "[encoded data removed]",
      "text/plain": [
       "<matplotlib.figure.Figure at 0x1a136c5978>"
      ]
     },
     "metadata": {},
     "output_type": "display_data"
    }
   ],
   "source": [
    "plt.hist(x10, bins=20)\n",
    "plt.show()"
   ]
  },
  {
   "cell_type": "markdown",
   "metadata": {},
   "source": [
    "Now we create our independent variable 'y'. "
   ]
  },
  {
   "cell_type": "code",
   "execution_count": 9,
   "metadata": {
    "collapsed": true
   },
   "outputs": [],
   "source": [
    "# Start with our strongest feature we want to see if we can find later x2-x1\n",
    "y = 10*(x2-x1)\n",
    "\n",
    "# give x1 a small amount of influence also on prediction\n",
    "y -= x1\n",
    "\n",
    "# give x2 a moderate amount of influence also on prediction\n",
    "y += 3*x2\n",
    "\n",
    "# give x3 the largest amount of singular prediction from any 1 variable\n",
    "y += 6*x3\n",
    "\n",
    "# give x4 the least (but not no) amount of prediction\n",
    "y += 0.2*x4\n",
    "\n",
    "# give x5 a small amount of prediction\n",
    "y -= 2*x5\n",
    "\n",
    "# give varying amounts for all other variables\n",
    "y += 4.5*x6\n",
    "y -= 3*x7\n",
    "y += 0.7*x8\n",
    "y -= 2*x9\n",
    "# x10 has no effect on y - redundant code below\n",
    "y += 0*x10 \n",
    "\n",
    "# Add one more weak correlation interaction\n",
    "y -= 5*(x4-x9)\n",
    "\n",
    "# Add a bias\n",
    "y += 32.5\n",
    "\n",
    "# Add some random noise\n",
    "y += np.random.normal(0, 1, y.shape)"
   ]
  },
  {
   "cell_type": "code",
   "execution_count": 10,
   "metadata": {},
   "outputs": [
    {
     "data": {
      "image/png": "[encoded data removed]",
      "text/plain": [
       "<matplotlib.figure.Figure at 0x1a13869908>"
      ]
     },
     "metadata": {},
     "output_type": "display_data"
    }
   ],
   "source": [
    "plt.hist(y, bins=20)\n",
    "plt.show()"
   ]
  },
  {
   "cell_type": "code",
   "execution_count": 11,
   "metadata": {},
   "outputs": [
    {
     "data": {
      "text/plain": [
       "(11.860622205436069, 66.031583634922569)"
      ]
     },
     "execution_count": 11,
     "metadata": {},
     "output_type": "execute_result"
    }
   ],
   "source": [
    "y.min(), y.max()"
   ]
  },
  {
   "cell_type": "markdown",
   "metadata": {},
   "source": [
    "stack all of our independent variables x1, x2, ..., x10 into a pd data frame. So that we can input them into our model"
   ]
  },
  {
   "cell_type": "code",
   "execution_count": 12,
   "metadata": {
    "collapsed": true
   },
   "outputs": [],
   "source": [
    "x = {'x1': x1, 'x2': x2, 'x3': x3, 'x4': x4, 'x5': x5,\n",
    "     'x6': x6, 'x7': x7, 'x8': x8, 'x9': x9, 'x10': x10}\n",
    "\n",
    "x = pd.DataFrame(x)"
   ]
  },
  {
   "cell_type": "code",
   "execution_count": 13,
   "metadata": {},
   "outputs": [
    {
     "data": {
      "text/html": [
       "<div>\n",
       "<style>\n",
       "    .dataframe thead tr:only-child th {\n",
       "        text-align: right;\n",
       "    }\n",
       "\n",
       "    .dataframe thead th {\n",
       "        text-align: left;\n",
       "    }\n",
       "\n",
       "    .dataframe tbody tr th {\n",
       "        vertical-align: top;\n",
       "    }\n",
       "</style>\n",
       "<table border=\"1\" class=\"dataframe\">\n",
       "  <thead>\n",
       "    <tr style=\"text-align: right;\">\n",
       "      <th></th>\n",
       "      <th>x1</th>\n",
       "      <th>x10</th>\n",
       "      <th>x2</th>\n",
       "      <th>x3</th>\n",
       "      <th>x4</th>\n",
       "      <th>x5</th>\n",
       "      <th>x6</th>\n",
       "      <th>x7</th>\n",
       "      <th>x8</th>\n",
       "      <th>x9</th>\n",
       "    </tr>\n",
       "  </thead>\n",
       "  <tbody>\n",
       "    <tr>\n",
       "      <th>0</th>\n",
       "      <td>0.532482</td>\n",
       "      <td>0.347127</td>\n",
       "      <td>0.317259</td>\n",
       "      <td>0.065466</td>\n",
       "      <td>-0.117849</td>\n",
       "      <td>-0.604571</td>\n",
       "      <td>0.287845</td>\n",
       "      <td>-0.822977</td>\n",
       "      <td>-0.935876</td>\n",
       "      <td>-0.297105</td>\n",
       "    </tr>\n",
       "    <tr>\n",
       "      <th>1</th>\n",
       "      <td>0.154413</td>\n",
       "      <td>-0.148272</td>\n",
       "      <td>-0.133689</td>\n",
       "      <td>-0.066263</td>\n",
       "      <td>0.051687</td>\n",
       "      <td>-0.898894</td>\n",
       "      <td>0.510545</td>\n",
       "      <td>-0.755187</td>\n",
       "      <td>0.084769</td>\n",
       "      <td>0.556772</td>\n",
       "    </tr>\n",
       "    <tr>\n",
       "      <th>2</th>\n",
       "      <td>0.628971</td>\n",
       "      <td>-0.365965</td>\n",
       "      <td>-0.003474</td>\n",
       "      <td>-0.159917</td>\n",
       "      <td>0.491379</td>\n",
       "      <td>-1.442894</td>\n",
       "      <td>0.357030</td>\n",
       "      <td>-0.191587</td>\n",
       "      <td>0.773838</td>\n",
       "      <td>0.464215</td>\n",
       "    </tr>\n",
       "    <tr>\n",
       "      <th>3</th>\n",
       "      <td>0.000993</td>\n",
       "      <td>-0.279301</td>\n",
       "      <td>-0.084702</td>\n",
       "      <td>-0.036669</td>\n",
       "      <td>-0.335837</td>\n",
       "      <td>-1.354750</td>\n",
       "      <td>0.443948</td>\n",
       "      <td>-0.561084</td>\n",
       "      <td>-0.344081</td>\n",
       "      <td>0.704657</td>\n",
       "    </tr>\n",
       "    <tr>\n",
       "      <th>4</th>\n",
       "      <td>-0.061437</td>\n",
       "      <td>-0.968624</td>\n",
       "      <td>-0.263371</td>\n",
       "      <td>0.096336</td>\n",
       "      <td>-0.451949</td>\n",
       "      <td>-0.665477</td>\n",
       "      <td>0.367038</td>\n",
       "      <td>0.001144</td>\n",
       "      <td>0.472466</td>\n",
       "      <td>-0.899134</td>\n",
       "    </tr>\n",
       "  </tbody>\n",
       "</table>\n",
       "</div>"
      ],
      "text/plain": [
       "         x1       x10        x2        x3        x4        x5        x6  \\\n",
       "0  0.532482  0.347127  0.317259  0.065466 -0.117849 -0.604571  0.287845   \n",
       "1  0.154413 -0.148272 -0.133689 -0.066263  0.051687 -0.898894  0.510545   \n",
       "2  0.628971 -0.365965 -0.003474 -0.159917  0.491379 -1.442894  0.357030   \n",
       "3  0.000993 -0.279301 -0.084702 -0.036669 -0.335837 -1.354750  0.443948   \n",
       "4 -0.061437 -0.968624 -0.263371  0.096336 -0.451949 -0.665477  0.367038   \n",
       "\n",
       "         x7        x8        x9  \n",
       "0 -0.822977 -0.935876 -0.297105  \n",
       "1 -0.755187  0.084769  0.556772  \n",
       "2 -0.191587  0.773838  0.464215  \n",
       "3 -0.561084 -0.344081  0.704657  \n",
       "4  0.001144  0.472466 -0.899134  "
      ]
     },
     "execution_count": 13,
     "metadata": {},
     "output_type": "execute_result"
    }
   ],
   "source": [
    "x.head()"
   ]
  },
  {
   "cell_type": "code",
   "execution_count": 14,
   "metadata": {},
   "outputs": [
    {
     "data": {
      "text/plain": [
       "(10000, 10)"
      ]
     },
     "execution_count": 14,
     "metadata": {},
     "output_type": "execute_result"
    }
   ],
   "source": [
    "x.shape"
   ]
  },
  {
   "cell_type": "markdown",
   "metadata": {},
   "source": [
    "Split dataset and labels into train, validate and test"
   ]
  },
  {
   "cell_type": "code",
   "execution_count": 15,
   "metadata": {
    "collapsed": true
   },
   "outputs": [],
   "source": [
    "x_trn, x_val, x_test = x.iloc[:8000, :], x.iloc[8000:9000, :], x.iloc[9000:, :]\n",
    "y_trn, y_val, y_test = y[:8000], y[8000:9000], y[9000:]"
   ]
  },
  {
   "cell_type": "code",
   "execution_count": 16,
   "metadata": {},
   "outputs": [
    {
     "data": {
      "text/plain": [
       "((8000, 10), (1000, 10), (1000, 10))"
      ]
     },
     "execution_count": 16,
     "metadata": {},
     "output_type": "execute_result"
    }
   ],
   "source": [
    "x_trn.shape, x_val.shape, x_test.shape"
   ]
  },
  {
   "cell_type": "code",
   "execution_count": 17,
   "metadata": {},
   "outputs": [
    {
     "data": {
      "text/plain": [
       "((8000,), (1000,), (1000,))"
      ]
     },
     "execution_count": 17,
     "metadata": {},
     "output_type": "execute_result"
    }
   ],
   "source": [
    "y_trn.shape, y_val.shape, y_test.shape"
   ]
  },
  {
   "cell_type": "markdown",
   "metadata": {},
   "source": [
    "Train a model"
   ]
  },
  {
   "cell_type": "code",
   "execution_count": 18,
   "metadata": {
    "collapsed": true
   },
   "outputs": [],
   "source": [
    "m = RandomForestRegressor(n_estimators=50).fit(x_trn, y_trn)"
   ]
  },
  {
   "cell_type": "markdown",
   "metadata": {},
   "source": [
    "Score and evaluate the model"
   ]
  },
  {
   "cell_type": "code",
   "execution_count": 35,
   "metadata": {
    "collapsed": true
   },
   "outputs": [],
   "source": [
    "def rmse(x,y): \n",
    "    return math.sqrt(((x-y)**2).mean())\n",
    "\n",
    "def print_score(m, pass_back=False):\n",
    "    res = [rmse(m.predict(x_trn), y_trn), rmse(m.predict(x_val), y_val),\n",
    "                m.score(x_trn, y_trn), m.score(x_val, y_val)]\n",
    "    print(f'Train RMSE: {round(res[0], 3)}')\n",
    "    print(f'Validation RMSE: {round(res[1], 3)}')\n",
    "    print(f'Train R-Squared: {round(res[2], 3)}')\n",
    "    print(f'Validation R-Squared: {round(res[3], 3)}')\n",
    "    if pass_back:\n",
    "        return res"
   ]
  },
  {
   "cell_type": "code",
   "execution_count": 36,
   "metadata": {},
   "outputs": [
    {
     "name": "stdout",
     "output_type": "stream",
     "text": [
      "Train RMSE: 0.739\n",
      "Validation RMSE: 1.928\n",
      "Train R-Squared: 0.99\n",
      "Validation R-Squared: 0.927\n"
     ]
    }
   ],
   "source": [
    "scores = print_score(m, pass_back=True)\n",
    "val_rmse = scores[1]"
   ]
  },
  {
   "cell_type": "markdown",
   "metadata": {},
   "source": [
    "Plot labels of training data vs predictions of training data"
   ]
  },
  {
   "cell_type": "code",
   "execution_count": 28,
   "metadata": {},
   "outputs": [
    {
     "data": {
      "image/png": "[encoded data removed]",
      "text/plain": [
       "<matplotlib.figure.Figure at 0x1a1660f048>"
      ]
     },
     "metadata": {},
     "output_type": "display_data"
    }
   ],
   "source": [
    "plt.scatter(y_trn, m.predict(x_trn))\n",
    "plt.show()"
   ]
  },
  {
   "cell_type": "markdown",
   "metadata": {},
   "source": [
    "Plot predictions of validation data vs true labels"
   ]
  },
  {
   "cell_type": "code",
   "execution_count": 30,
   "metadata": {},
   "outputs": [
    {
     "data": {
      "image/png": "[encoded data removed]",
      "text/plain": [
       "<matplotlib.figure.Figure at 0x1a136993c8>"
      ]
     },
     "metadata": {},
     "output_type": "display_data"
    }
   ],
   "source": [
    "plt.scatter(y_val, m.predict(x_val))\n",
    "plt.show()"
   ]
  },
  {
   "cell_type": "markdown",
   "metadata": {
    "collapsed": true
   },
   "source": [
    "Evaluate Feature importance - Go through the inputs to the model one at a time and shuffle the values of one column. Make predictions using the data with one row shuffled. Evaluate the effect on the models score rank each feature by how much the models score was negatively effected when removed \n",
    "\n",
    "* re-write above"
   ]
  },
  {
   "cell_type": "code",
   "execution_count": 31,
   "metadata": {
    "collapsed": true
   },
   "outputs": [],
   "source": [
    "df_importance = pd.DataFrame()\n",
    "for col in x_val.columns:\n",
    "    x_shuffle = x_val.copy()\n",
    "    shuffled_column = x_shuffle[col].values\n",
    "    np.random.shuffle(shuffled_column)\n",
    "    x_shuffle[col] = shuffled_column\n",
    "    rmse_score = rmse(y_val, m.predict(x_shuffle))\n",
    "    row = {}\n",
    "    row['col'] = col\n",
    "    row['score'] = rmse_score\n",
    "    df_importance = df_importance.append(row, ignore_index=True)\n",
    "\n",
    "df_importance = df_importance.sort_values(by='score')"
   ]
  },
  {
   "cell_type": "code",
   "execution_count": 37,
   "metadata": {},
   "outputs": [
    {
     "data": {
      "text/html": [
       "<div>\n",
       "<style>\n",
       "    .dataframe thead tr:only-child th {\n",
       "        text-align: right;\n",
       "    }\n",
       "\n",
       "    .dataframe thead th {\n",
       "        text-align: left;\n",
       "    }\n",
       "\n",
       "    .dataframe tbody tr th {\n",
       "        vertical-align: top;\n",
       "    }\n",
       "</style>\n",
       "<table border=\"1\" class=\"dataframe\">\n",
       "  <thead>\n",
       "    <tr style=\"text-align: right;\">\n",
       "      <th></th>\n",
       "      <th>col</th>\n",
       "      <th>score</th>\n",
       "      <th>error_diff</th>\n",
       "    </tr>\n",
       "  </thead>\n",
       "  <tbody>\n",
       "    <tr>\n",
       "      <th>2</th>\n",
       "      <td>x2</td>\n",
       "      <td>7.270263</td>\n",
       "      <td>-5.342464</td>\n",
       "    </tr>\n",
       "    <tr>\n",
       "      <th>0</th>\n",
       "      <td>x1</td>\n",
       "      <td>6.179721</td>\n",
       "      <td>-4.251922</td>\n",
       "    </tr>\n",
       "    <tr>\n",
       "      <th>9</th>\n",
       "      <td>x9</td>\n",
       "      <td>2.904588</td>\n",
       "      <td>-0.976789</td>\n",
       "    </tr>\n",
       "    <tr>\n",
       "      <th>4</th>\n",
       "      <td>x4</td>\n",
       "      <td>2.504639</td>\n",
       "      <td>-0.576841</td>\n",
       "    </tr>\n",
       "    <tr>\n",
       "      <th>7</th>\n",
       "      <td>x7</td>\n",
       "      <td>2.425217</td>\n",
       "      <td>-0.497418</td>\n",
       "    </tr>\n",
       "    <tr>\n",
       "      <th>3</th>\n",
       "      <td>x3</td>\n",
       "      <td>2.236980</td>\n",
       "      <td>-0.309182</td>\n",
       "    </tr>\n",
       "    <tr>\n",
       "      <th>5</th>\n",
       "      <td>x5</td>\n",
       "      <td>2.095777</td>\n",
       "      <td>-0.167978</td>\n",
       "    </tr>\n",
       "    <tr>\n",
       "      <th>6</th>\n",
       "      <td>x6</td>\n",
       "      <td>1.963741</td>\n",
       "      <td>-0.035942</td>\n",
       "    </tr>\n",
       "    <tr>\n",
       "      <th>8</th>\n",
       "      <td>x8</td>\n",
       "      <td>1.954908</td>\n",
       "      <td>-0.027110</td>\n",
       "    </tr>\n",
       "    <tr>\n",
       "      <th>1</th>\n",
       "      <td>x10</td>\n",
       "      <td>1.932039</td>\n",
       "      <td>-0.004240</td>\n",
       "    </tr>\n",
       "  </tbody>\n",
       "</table>\n",
       "</div>"
      ],
      "text/plain": [
       "   col     score  error_diff\n",
       "2   x2  7.270263   -5.342464\n",
       "0   x1  6.179721   -4.251922\n",
       "9   x9  2.904588   -0.976789\n",
       "4   x4  2.504639   -0.576841\n",
       "7   x7  2.425217   -0.497418\n",
       "3   x3  2.236980   -0.309182\n",
       "5   x5  2.095777   -0.167978\n",
       "6   x6  1.963741   -0.035942\n",
       "8   x8  1.954908   -0.027110\n",
       "1  x10  1.932039   -0.004240"
      ]
     },
     "execution_count": 37,
     "metadata": {},
     "output_type": "execute_result"
    }
   ],
   "source": [
    "top_ten_fi_vars = df_importance.reset_index(drop=True).iloc[:10, 0].values\n",
    "\n",
    "df_importance['error_diff'] = val_rmse - df_importance['score']\n",
    "\n",
    "error_diffs = {row['col']: row['error_diff'] for i, row in df_importance.iterrows()}\n",
    "\n",
    "df_importance = df_importance.sort_values(by='error_diff', ascending=True)\n",
    "df_importance.head(10)"
   ]
  },
  {
   "cell_type": "code",
   "execution_count": null,
   "metadata": {
    "collapsed": true
   },
   "outputs": [],
   "source": []
  }
 ],
 "metadata": {
  "kernelspec": {
   "display_name": "Python 3",
   "language": "python",
   "name": "python3"
  },
  "language_info": {
   "codemirror_mode": {
    "name": "ipython",
    "version": 3
   },
   "file_extension": ".py",
   "mimetype": "text/x-python",
   "name": "python",
   "nbconvert_exporter": "python",
   "pygments_lexer": "ipython3",
   "version": "3.6.3"
  }
 },
 "nbformat": 4,
 "nbformat_minor": 2
}
