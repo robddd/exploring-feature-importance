{
 "cells": [
  {
   "cell_type": "markdown",
   "metadata": {},
   "source": [
    "# Exploring Feature Importance and Feature Interaction\n",
    "\n",
    "This notebook explores ideas around Feature Importance and Feature Interaction by generating a synthetic data set with fetures of different feature importance and interactivity. Its purpose is to validate using methods of feature importance and to explore methods of discovering features which have strong interaction with other features.\n",
    "\n",
    "A lot of these ideas come from the excellent 'fastai' course 'Introduction to Machine Learning for Coders' http://course18.fast.ai/ml"
   ]
  },
  {
   "cell_type": "code",
   "execution_count": 287,
   "metadata": {
    "collapsed": true
   },
   "outputs": [],
   "source": [
    "%matplotlib inline\n",
    "import pandas as pd\n",
    "import numpy as np\n",
    "from sklearn.ensemble import RandomForestRegressor\n",
    "import matplotlib.pyplot as plt\n",
    "import math"
   ]
  },
  {
   "cell_type": "markdown",
   "metadata": {},
   "source": [
    "First create features from different random distributions. Features were designed to be roughly normalised with a range of [-1, 1]. Different distributions were used to see if this had an effect on feature importance."
   ]
  },
  {
   "cell_type": "code",
   "execution_count": 288,
   "metadata": {
    "collapsed": true
   },
   "outputs": [],
   "source": [
    "n_samples = 10000"
   ]
  },
  {
   "cell_type": "code",
   "execution_count": 289,
   "metadata": {
    "collapsed": true
   },
   "outputs": [],
   "source": [
    "x = {f'x{i}': np.random.uniform(-1, 1, n_samples) for i in range(1, 21)}"
   ]
  },
  {
   "cell_type": "markdown",
   "metadata": {},
   "source": [
    "Example of one of the uniformly distributed features"
   ]
  },
  {
   "cell_type": "code",
   "execution_count": 310,
   "metadata": {
    "scrolled": true
   },
   "outputs": [
    {
     "data": {
      "image/png": "[encoded data removed]",
      "text/plain": [
       "<matplotlib.figure.Figure at 0x1a13ed1400>"
      ]
     },
     "metadata": {},
     "output_type": "display_data"
    }
   ],
   "source": [
    "plt.hist(x['x1'], bins=20)\n",
    "plt.show()"
   ]
  },
  {
   "cell_type": "markdown",
   "metadata": {},
   "source": [
    "Now we create our independent variable 'y'. "
   ]
  },
  {
   "cell_type": "code",
   "execution_count": null,
   "metadata": {},
   "outputs": [],
   "source": []
  },
  {
   "cell_type": "code",
   "execution_count": 312,
   "metadata": {},
   "outputs": [],
   "source": [
    "# Start with our strongest feature we want to see if we can find later x2-x1\n",
    "y = x['x1'] + x['x11']\n",
    "y += 2*x['x2'] + 2*x['x12']\n",
    "y += 3*x['x3'] + 3*x['x13']\n",
    "y += 4*x['x4'] + 4*x['x14']\n",
    "y += 5*x['x5'] + 5*x['x15']\n",
    "y += 6*x['x6'] + 6*x['x16']\n",
    "y += 7*x['x7'] + 7*x['x17']\n",
    "y += 8*x['x8'] + 8*x['x18']\n",
    "y += 9*x['x9'] + 7*x['x19']\n",
    "y += 0*x['x10'] + 0*x['x20']\n",
    "\n",
    "# Add a bias\n",
    "y += 50\n",
    "\n",
    "# Add some random noise\n",
    "y += np.random.normal(0, 1, y.shape)"
   ]
  },
  {
   "cell_type": "code",
   "execution_count": 313,
   "metadata": {},
   "outputs": [
    {
     "data": {
      "image/png": "[encoded data removed]",
      "text/plain": [
       "<matplotlib.figure.Figure at 0x1a1386fb38>"
      ]
     },
     "metadata": {},
     "output_type": "display_data"
    }
   ],
   "source": [
    "plt.hist(y, bins=20)\n",
    "plt.show()"
   ]
  },
  {
   "cell_type": "code",
   "execution_count": 314,
   "metadata": {},
   "outputs": [
    {
     "data": {
      "text/plain": [
       "(1.470171653316485, 101.32037155180417)"
      ]
     },
     "execution_count": 314,
     "metadata": {},
     "output_type": "execute_result"
    }
   ],
   "source": [
    "y.min(), y.max()"
   ]
  },
  {
   "cell_type": "markdown",
   "metadata": {},
   "source": [
    "stack all of our independent variables x1, x2, ..., x10 into a pd data frame. So that we can input them into our model"
   ]
  },
  {
   "cell_type": "code",
   "execution_count": 315,
   "metadata": {
    "collapsed": true
   },
   "outputs": [],
   "source": [
    "x = pd.DataFrame(x).sample(frac=1.0, axis=1)"
   ]
  },
  {
   "cell_type": "code",
   "execution_count": 316,
   "metadata": {},
   "outputs": [
    {
     "data": {
      "text/html": [
       "<div>\n",
       "<style>\n",
       "    .dataframe thead tr:only-child th {\n",
       "        text-align: right;\n",
       "    }\n",
       "\n",
       "    .dataframe thead th {\n",
       "        text-align: left;\n",
       "    }\n",
       "\n",
       "    .dataframe tbody tr th {\n",
       "        vertical-align: top;\n",
       "    }\n",
       "</style>\n",
       "<table border=\"1\" class=\"dataframe\">\n",
       "  <thead>\n",
       "    <tr style=\"text-align: right;\">\n",
       "      <th></th>\n",
       "      <th>x13</th>\n",
       "      <th>x5</th>\n",
       "      <th>x19</th>\n",
       "      <th>x1</th>\n",
       "      <th>x10</th>\n",
       "      <th>x4</th>\n",
       "      <th>x20</th>\n",
       "      <th>x3</th>\n",
       "      <th>x14</th>\n",
       "      <th>x2</th>\n",
       "      <th>x9</th>\n",
       "      <th>x17</th>\n",
       "      <th>x12</th>\n",
       "      <th>x15</th>\n",
       "      <th>x16</th>\n",
       "      <th>x18</th>\n",
       "      <th>x8</th>\n",
       "      <th>x7</th>\n",
       "      <th>x6</th>\n",
       "      <th>x11</th>\n",
       "    </tr>\n",
       "  </thead>\n",
       "  <tbody>\n",
       "    <tr>\n",
       "      <th>0</th>\n",
       "      <td>-0.229548</td>\n",
       "      <td>-0.511961</td>\n",
       "      <td>-0.554082</td>\n",
       "      <td>0.810380</td>\n",
       "      <td>-0.001181</td>\n",
       "      <td>-0.516537</td>\n",
       "      <td>-0.208066</td>\n",
       "      <td>0.588470</td>\n",
       "      <td>0.613874</td>\n",
       "      <td>-0.624299</td>\n",
       "      <td>-0.305467</td>\n",
       "      <td>0.122504</td>\n",
       "      <td>0.216160</td>\n",
       "      <td>-0.897023</td>\n",
       "      <td>0.942305</td>\n",
       "      <td>0.072966</td>\n",
       "      <td>-0.641547</td>\n",
       "      <td>0.957575</td>\n",
       "      <td>-0.861689</td>\n",
       "      <td>0.513301</td>\n",
       "    </tr>\n",
       "    <tr>\n",
       "      <th>1</th>\n",
       "      <td>0.128942</td>\n",
       "      <td>-0.385446</td>\n",
       "      <td>-0.559927</td>\n",
       "      <td>0.881398</td>\n",
       "      <td>-0.255468</td>\n",
       "      <td>-0.465530</td>\n",
       "      <td>0.324536</td>\n",
       "      <td>0.032694</td>\n",
       "      <td>-0.951808</td>\n",
       "      <td>0.541182</td>\n",
       "      <td>-0.422273</td>\n",
       "      <td>0.902730</td>\n",
       "      <td>0.622043</td>\n",
       "      <td>0.478477</td>\n",
       "      <td>-0.515317</td>\n",
       "      <td>0.744269</td>\n",
       "      <td>-0.936595</td>\n",
       "      <td>0.372141</td>\n",
       "      <td>-0.484920</td>\n",
       "      <td>0.716704</td>\n",
       "    </tr>\n",
       "    <tr>\n",
       "      <th>2</th>\n",
       "      <td>-0.900413</td>\n",
       "      <td>-0.506555</td>\n",
       "      <td>0.920853</td>\n",
       "      <td>-0.763834</td>\n",
       "      <td>0.587156</td>\n",
       "      <td>0.553854</td>\n",
       "      <td>0.157944</td>\n",
       "      <td>-0.471981</td>\n",
       "      <td>-0.883142</td>\n",
       "      <td>-0.718099</td>\n",
       "      <td>-0.937962</td>\n",
       "      <td>-0.601910</td>\n",
       "      <td>-0.956719</td>\n",
       "      <td>-0.128811</td>\n",
       "      <td>0.925158</td>\n",
       "      <td>-0.149800</td>\n",
       "      <td>0.080394</td>\n",
       "      <td>-0.082414</td>\n",
       "      <td>-0.756695</td>\n",
       "      <td>0.803056</td>\n",
       "    </tr>\n",
       "    <tr>\n",
       "      <th>3</th>\n",
       "      <td>-0.871692</td>\n",
       "      <td>-0.093086</td>\n",
       "      <td>0.202133</td>\n",
       "      <td>-0.303231</td>\n",
       "      <td>-0.451197</td>\n",
       "      <td>-0.727145</td>\n",
       "      <td>-0.894082</td>\n",
       "      <td>0.361176</td>\n",
       "      <td>-0.140464</td>\n",
       "      <td>-0.567420</td>\n",
       "      <td>0.630076</td>\n",
       "      <td>-0.221173</td>\n",
       "      <td>0.798515</td>\n",
       "      <td>0.021971</td>\n",
       "      <td>-0.065988</td>\n",
       "      <td>0.881250</td>\n",
       "      <td>-0.107062</td>\n",
       "      <td>-0.756439</td>\n",
       "      <td>0.609930</td>\n",
       "      <td>-0.706941</td>\n",
       "    </tr>\n",
       "    <tr>\n",
       "      <th>4</th>\n",
       "      <td>0.221549</td>\n",
       "      <td>0.609153</td>\n",
       "      <td>-0.691213</td>\n",
       "      <td>0.558895</td>\n",
       "      <td>0.287208</td>\n",
       "      <td>0.387309</td>\n",
       "      <td>0.435158</td>\n",
       "      <td>-0.629387</td>\n",
       "      <td>0.285235</td>\n",
       "      <td>-0.611154</td>\n",
       "      <td>0.522291</td>\n",
       "      <td>0.374852</td>\n",
       "      <td>0.863458</td>\n",
       "      <td>0.396703</td>\n",
       "      <td>-0.257818</td>\n",
       "      <td>0.441033</td>\n",
       "      <td>0.021124</td>\n",
       "      <td>0.595553</td>\n",
       "      <td>-0.104145</td>\n",
       "      <td>-0.156685</td>\n",
       "    </tr>\n",
       "  </tbody>\n",
       "</table>\n",
       "</div>"
      ],
      "text/plain": [
       "        x13        x5       x19        x1       x10        x4       x20  \\\n",
       "0 -0.229548 -0.511961 -0.554082  0.810380 -0.001181 -0.516537 -0.208066   \n",
       "1  0.128942 -0.385446 -0.559927  0.881398 -0.255468 -0.465530  0.324536   \n",
       "2 -0.900413 -0.506555  0.920853 -0.763834  0.587156  0.553854  0.157944   \n",
       "3 -0.871692 -0.093086  0.202133 -0.303231 -0.451197 -0.727145 -0.894082   \n",
       "4  0.221549  0.609153 -0.691213  0.558895  0.287208  0.387309  0.435158   \n",
       "\n",
       "         x3       x14        x2        x9       x17       x12       x15  \\\n",
       "0  0.588470  0.613874 -0.624299 -0.305467  0.122504  0.216160 -0.897023   \n",
       "1  0.032694 -0.951808  0.541182 -0.422273  0.902730  0.622043  0.478477   \n",
       "2 -0.471981 -0.883142 -0.718099 -0.937962 -0.601910 -0.956719 -0.128811   \n",
       "3  0.361176 -0.140464 -0.567420  0.630076 -0.221173  0.798515  0.021971   \n",
       "4 -0.629387  0.285235 -0.611154  0.522291  0.374852  0.863458  0.396703   \n",
       "\n",
       "        x16       x18        x8        x7        x6       x11  \n",
       "0  0.942305  0.072966 -0.641547  0.957575 -0.861689  0.513301  \n",
       "1 -0.515317  0.744269 -0.936595  0.372141 -0.484920  0.716704  \n",
       "2  0.925158 -0.149800  0.080394 -0.082414 -0.756695  0.803056  \n",
       "3 -0.065988  0.881250 -0.107062 -0.756439  0.609930 -0.706941  \n",
       "4 -0.257818  0.441033  0.021124  0.595553 -0.104145 -0.156685  "
      ]
     },
     "execution_count": 316,
     "metadata": {},
     "output_type": "execute_result"
    }
   ],
   "source": [
    "x.head()"
   ]
  },
  {
   "cell_type": "code",
   "execution_count": 317,
   "metadata": {},
   "outputs": [
    {
     "data": {
      "text/plain": [
       "(10000, 20)"
      ]
     },
     "execution_count": 317,
     "metadata": {},
     "output_type": "execute_result"
    }
   ],
   "source": [
    "x.shape"
   ]
  },
  {
   "cell_type": "markdown",
   "metadata": {},
   "source": [
    "Split dataset and labels into train, validate and test"
   ]
  },
  {
   "cell_type": "code",
   "execution_count": 318,
   "metadata": {
    "collapsed": true
   },
   "outputs": [],
   "source": [
    "x_trn, x_val, x_test = x.iloc[:8000, :], x.iloc[8000:9000, :], x.iloc[9000:, :]\n",
    "y_trn, y_val, y_test = y[:8000], y[8000:9000], y[9000:]"
   ]
  },
  {
   "cell_type": "code",
   "execution_count": 319,
   "metadata": {},
   "outputs": [
    {
     "data": {
      "text/plain": [
       "((8000, 20), (1000, 20), (1000, 20))"
      ]
     },
     "execution_count": 319,
     "metadata": {},
     "output_type": "execute_result"
    }
   ],
   "source": [
    "x_trn.shape, x_val.shape, x_test.shape"
   ]
  },
  {
   "cell_type": "code",
   "execution_count": 320,
   "metadata": {},
   "outputs": [
    {
     "data": {
      "text/plain": [
       "((8000,), (1000,), (1000,))"
      ]
     },
     "execution_count": 320,
     "metadata": {},
     "output_type": "execute_result"
    }
   ],
   "source": [
    "y_trn.shape, y_val.shape, y_test.shape"
   ]
  },
  {
   "cell_type": "markdown",
   "metadata": {},
   "source": [
    "Train a model"
   ]
  },
  {
   "cell_type": "code",
   "execution_count": 321,
   "metadata": {
    "collapsed": true
   },
   "outputs": [],
   "source": [
    "m = RandomForestRegressor(n_estimators=50).fit(x_trn, y_trn)"
   ]
  },
  {
   "cell_type": "markdown",
   "metadata": {},
   "source": [
    "Score and evaluate the model"
   ]
  },
  {
   "cell_type": "code",
   "execution_count": 322,
   "metadata": {
    "collapsed": true
   },
   "outputs": [],
   "source": [
    "def rmse(x,y): \n",
    "    return math.sqrt(((x-y)**2).mean())\n",
    "\n",
    "def print_score(m, pass_back=False):\n",
    "    res = [rmse(m.predict(x_trn), y_trn), rmse(m.predict(x_val), y_val),\n",
    "                m.score(x_trn, y_trn), m.score(x_val, y_val)]\n",
    "    print(f'Train RMSE: {round(res[0], 3)}')\n",
    "    print(f'Validation RMSE: {round(res[1], 3)}')\n",
    "    print(f'Train R-Squared: {round(res[2], 3)}')\n",
    "    print(f'Validation R-Squared: {round(res[3], 3)}')\n",
    "    if pass_back:\n",
    "        return res"
   ]
  },
  {
   "cell_type": "code",
   "execution_count": 323,
   "metadata": {},
   "outputs": [
    {
     "name": "stdout",
     "output_type": "stream",
     "text": [
      "Train RMSE: 2.351\n",
      "Validation RMSE: 6.253\n",
      "Train R-Squared: 0.969\n",
      "Validation R-Squared: 0.792\n"
     ]
    }
   ],
   "source": [
    "scores = print_score(m, pass_back=True)\n",
    "val_rmse = scores[1]"
   ]
  },
  {
   "cell_type": "markdown",
   "metadata": {},
   "source": [
    "Plot labels of training data vs predictions of training data"
   ]
  },
  {
   "cell_type": "code",
   "execution_count": 324,
   "metadata": {},
   "outputs": [
    {
     "data": {
      "image/png": "[encoded data removed]",
      "text/plain": [
       "<matplotlib.figure.Figure at 0x1a1660a9b0>"
      ]
     },
     "metadata": {},
     "output_type": "display_data"
    }
   ],
   "source": [
    "plt.scatter(y_trn, m.predict(x_trn))\n",
    "plt.show()"
   ]
  },
  {
   "cell_type": "markdown",
   "metadata": {},
   "source": [
    "Plot predictions of validation data vs true labels"
   ]
  },
  {
   "cell_type": "code",
   "execution_count": 325,
   "metadata": {},
   "outputs": [
    {
     "data": {
      "image/png": "[encoded data removed]",
      "text/plain": [
       "<matplotlib.figure.Figure at 0x1a137df828>"
      ]
     },
     "metadata": {},
     "output_type": "display_data"
    }
   ],
   "source": [
    "plt.scatter(y_val, m.predict(x_val))\n",
    "plt.show()"
   ]
  },
  {
   "cell_type": "markdown",
   "metadata": {
    "collapsed": true
   },
   "source": [
    "Evaluate Feature importance - Go through the inputs to the model one at a time and shuffle the values of one column. Make predictions using the data with one row shuffled. Evaluate the effect on the models score rank each feature by how much the models score was negatively effected when removed \n",
    "\n",
    "* re-write above"
   ]
  },
  {
   "cell_type": "code",
   "execution_count": 326,
   "metadata": {
    "collapsed": true
   },
   "outputs": [],
   "source": [
    "df_importance = pd.DataFrame()\n",
    "for col in x_val.columns:\n",
    "    x_shuffle = x_val.copy()\n",
    "    shuffled_column = x_shuffle[col].values\n",
    "    np.random.shuffle(shuffled_column)\n",
    "    x_shuffle[col] = shuffled_column\n",
    "    rmse_score = rmse(y_val, m.predict(x_shuffle))\n",
    "    row = {}\n",
    "    row['col'] = col\n",
    "    row['score'] = rmse_score\n",
    "    df_importance = df_importance.append(row, ignore_index=True)\n",
    "\n",
    "df_importance = df_importance.sort_values(by='score')"
   ]
  },
  {
   "cell_type": "code",
   "execution_count": 327,
   "metadata": {},
   "outputs": [
    {
     "data": {
      "text/html": [
       "<div>\n",
       "<style>\n",
       "    .dataframe thead tr:only-child th {\n",
       "        text-align: right;\n",
       "    }\n",
       "\n",
       "    .dataframe thead th {\n",
       "        text-align: left;\n",
       "    }\n",
       "\n",
       "    .dataframe tbody tr th {\n",
       "        vertical-align: top;\n",
       "    }\n",
       "</style>\n",
       "<table border=\"1\" class=\"dataframe\">\n",
       "  <thead>\n",
       "    <tr style=\"text-align: right;\">\n",
       "      <th></th>\n",
       "      <th>col</th>\n",
       "      <th>score</th>\n",
       "      <th>error_diff</th>\n",
       "    </tr>\n",
       "  </thead>\n",
       "  <tbody>\n",
       "    <tr>\n",
       "      <th>10</th>\n",
       "      <td>x9</td>\n",
       "      <td>9.216710</td>\n",
       "      <td>2.964060</td>\n",
       "    </tr>\n",
       "    <tr>\n",
       "      <th>16</th>\n",
       "      <td>x8</td>\n",
       "      <td>8.755638</td>\n",
       "      <td>2.502987</td>\n",
       "    </tr>\n",
       "    <tr>\n",
       "      <th>15</th>\n",
       "      <td>x18</td>\n",
       "      <td>8.741041</td>\n",
       "      <td>2.488390</td>\n",
       "    </tr>\n",
       "    <tr>\n",
       "      <th>2</th>\n",
       "      <td>x19</td>\n",
       "      <td>8.117249</td>\n",
       "      <td>1.864599</td>\n",
       "    </tr>\n",
       "    <tr>\n",
       "      <th>17</th>\n",
       "      <td>x7</td>\n",
       "      <td>7.872137</td>\n",
       "      <td>1.619486</td>\n",
       "    </tr>\n",
       "    <tr>\n",
       "      <th>11</th>\n",
       "      <td>x17</td>\n",
       "      <td>7.688492</td>\n",
       "      <td>1.435841</td>\n",
       "    </tr>\n",
       "    <tr>\n",
       "      <th>14</th>\n",
       "      <td>x16</td>\n",
       "      <td>7.325197</td>\n",
       "      <td>1.072547</td>\n",
       "    </tr>\n",
       "    <tr>\n",
       "      <th>18</th>\n",
       "      <td>x6</td>\n",
       "      <td>7.240448</td>\n",
       "      <td>0.987797</td>\n",
       "    </tr>\n",
       "    <tr>\n",
       "      <th>13</th>\n",
       "      <td>x15</td>\n",
       "      <td>6.860528</td>\n",
       "      <td>0.607878</td>\n",
       "    </tr>\n",
       "    <tr>\n",
       "      <th>1</th>\n",
       "      <td>x5</td>\n",
       "      <td>6.763274</td>\n",
       "      <td>0.510623</td>\n",
       "    </tr>\n",
       "  </tbody>\n",
       "</table>\n",
       "</div>"
      ],
      "text/plain": [
       "    col     score  error_diff\n",
       "10   x9  9.216710    2.964060\n",
       "16   x8  8.755638    2.502987\n",
       "15  x18  8.741041    2.488390\n",
       "2   x19  8.117249    1.864599\n",
       "17   x7  7.872137    1.619486\n",
       "11  x17  7.688492    1.435841\n",
       "14  x16  7.325197    1.072547\n",
       "18   x6  7.240448    0.987797\n",
       "13  x15  6.860528    0.607878\n",
       "1    x5  6.763274    0.510623"
      ]
     },
     "execution_count": 327,
     "metadata": {},
     "output_type": "execute_result"
    }
   ],
   "source": [
    "top_ten_fi_vars = df_importance.reset_index(drop=True).iloc[:20, 0].values\n",
    "\n",
    "df_importance['error_diff'] = df_importance['score'] - val_rmse\n",
    "\n",
    "error_diffs = {row['col']: row['error_diff'] for i, row in df_importance.iterrows()}\n",
    "\n",
    "df_importance = df_importance.sort_values(by='error_diff', ascending=False)\n",
    "df_importance.head(10)"
   ]
  },
  {
   "cell_type": "code",
   "execution_count": 328,
   "metadata": {},
   "outputs": [
    {
     "data": {
      "image/png": "[encoded data removed]",
      "text/plain": [
       "<matplotlib.figure.Figure at 0x1a144dfba8>"
      ]
     },
     "metadata": {},
     "output_type": "display_data"
    }
   ],
   "source": [
    "plt.barh(y=np.arange(20), width=df_importance['error_diff'], tick_label=df_importance['col'])\n",
    "plt.show()"
   ]
  },
  {
   "cell_type": "markdown",
   "metadata": {},
   "source": [
    "Using this we can see what variables are important and what are not important. The scores on the x axis are not as meaningful as comparing each variable to each other"
   ]
  },
  {
   "cell_type": "code",
   "execution_count": null,
   "metadata": {
    "collapsed": true
   },
   "outputs": [],
   "source": []
  }
 ],
 "metadata": {
  "kernelspec": {
   "display_name": "Python 3",
   "language": "python",
   "name": "python3"
  },
  "language_info": {
   "codemirror_mode": {
    "name": "ipython",
    "version": 3
   },
   "file_extension": ".py",
   "mimetype": "text/x-python",
   "name": "python",
   "nbconvert_exporter": "python",
   "pygments_lexer": "ipython3",
   "version": "3.6.3"
  }
 },
 "nbformat": 4,
 "nbformat_minor": 2
}
