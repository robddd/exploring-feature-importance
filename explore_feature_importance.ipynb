{
 "cells": [
  {
   "cell_type": "markdown",
   "metadata": {},
   "source": [
    "# Exploring Feature Importance and Feature Interaction\n",
    "\n",
    "This notebook explores ideas around Feature Importance and Feature Interaction by generating a synthetic data set with fetures of different feature importance and interactivity. Its purpose is to validate using methods of feature importance and to explore methods of discovering features which have strong interaction with other features.\n",
    "\n",
    "A lot of these ideas come from the excellent 'fastai' course 'Introduction to Machine Learning for Coders' http://course18.fast.ai/ml"
   ]
  },
  {
   "cell_type": "code",
   "execution_count": 1,
   "metadata": {
    "collapsed": true
   },
   "outputs": [],
   "source": [
    "%matplotlib inline\n",
    "import pandas as pd\n",
    "import numpy as np\n",
    "from sklearn.ensemble import RandomForestRegressor\n",
    "import matplotlib.pyplot as plt\n",
    "import math"
   ]
  },
  {
   "cell_type": "markdown",
   "metadata": {},
   "source": [
    "First create features from different random distributions. Features were designed to be roughly normalised with a range of [-1, 1]. Different distributions were used to see if this had an effect on feature importance."
   ]
  },
  {
   "cell_type": "code",
   "execution_count": 2,
   "metadata": {
    "collapsed": true
   },
   "outputs": [],
   "source": [
    "n_samples = 10000"
   ]
  },
  {
   "cell_type": "code",
   "execution_count": 3,
   "metadata": {
    "collapsed": true
   },
   "outputs": [],
   "source": [
    "x = {f'x{i}': np.random.uniform(-1, 1, n_samples) for i in range(1, 21)}"
   ]
  },
  {
   "cell_type": "markdown",
   "metadata": {},
   "source": [
    "Example of one of the uniformly distributed features"
   ]
  },
  {
   "cell_type": "code",
   "execution_count": 4,
   "metadata": {
    "scrolled": true
   },
   "outputs": [
    {
     "data": {
      "image/png": "[encoded data removed]",
      "text/plain": [
       "<matplotlib.figure.Figure at 0x10e54ddd8>"
      ]
     },
     "metadata": {},
     "output_type": "display_data"
    }
   ],
   "source": [
    "plt.hist(x['x1'], bins=20)\n",
    "plt.show()"
   ]
  },
  {
   "cell_type": "markdown",
   "metadata": {},
   "source": [
    "Now we create our independent variable 'y'. Note the magnitudes of the coefficients these are indiciative of how 'important' each feature is to predicting the dependent variable"
   ]
  },
  {
   "cell_type": "code",
   "execution_count": 5,
   "metadata": {
    "collapsed": true
   },
   "outputs": [],
   "source": [
    "# Start with our strongest feature we want to see if we can find later x2-x1\n",
    "y = x['x1'] + x['x11']\n",
    "y += 2*x['x2'] + 2*x['x12']\n",
    "y += 3*x['x3'] + 3*x['x13']\n",
    "y += 4*x['x4'] + 4*x['x14']\n",
    "y += 5*x['x5'] + 5*x['x15']\n",
    "y += 6*x['x6'] + 6*x['x16']\n",
    "y += 7*x['x7'] + 7*x['x17']\n",
    "y += 8*x['x8'] + 8*x['x18']\n",
    "y += 9*x['x9'] + 9*x['x19']\n",
    "y += 0*x['x10'] + 0*x['x20']\n",
    "\n",
    "# Add a bias\n",
    "y += 100\n",
    "\n",
    "# Add some random noise\n",
    "y += np.random.normal(0, 1, y.shape)"
   ]
  },
  {
   "cell_type": "code",
   "execution_count": 6,
   "metadata": {},
   "outputs": [
    {
     "data": {
      "image/png": "[encoded data removed]",
      "text/plain": [
       "<matplotlib.figure.Figure at 0x113449860>"
      ]
     },
     "metadata": {},
     "output_type": "display_data"
    }
   ],
   "source": [
    "plt.hist(y, bins=20)\n",
    "plt.show()"
   ]
  },
  {
   "cell_type": "code",
   "execution_count": 7,
   "metadata": {},
   "outputs": [
    {
     "data": {
      "text/plain": [
       "(49.103869332278862, 146.96935739096696)"
      ]
     },
     "execution_count": 7,
     "metadata": {},
     "output_type": "execute_result"
    }
   ],
   "source": [
    "y.min(), y.max()"
   ]
  },
  {
   "cell_type": "markdown",
   "metadata": {},
   "source": [
    "stack all of our independent variables x1, x2, ..., x10 into a pd data frame. So that we can input them into our model"
   ]
  },
  {
   "cell_type": "code",
   "execution_count": 8,
   "metadata": {
    "collapsed": true
   },
   "outputs": [],
   "source": [
    "x = pd.DataFrame(x).sample(frac=1.0, axis=1)"
   ]
  },
  {
   "cell_type": "code",
   "execution_count": 9,
   "metadata": {},
   "outputs": [
    {
     "data": {
      "text/html": [
       "<div>\n",
       "<style>\n",
       "    .dataframe thead tr:only-child th {\n",
       "        text-align: right;\n",
       "    }\n",
       "\n",
       "    .dataframe thead th {\n",
       "        text-align: left;\n",
       "    }\n",
       "\n",
       "    .dataframe tbody tr th {\n",
       "        vertical-align: top;\n",
       "    }\n",
       "</style>\n",
       "<table border=\"1\" class=\"dataframe\">\n",
       "  <thead>\n",
       "    <tr style=\"text-align: right;\">\n",
       "      <th></th>\n",
       "      <th>x5</th>\n",
       "      <th>x17</th>\n",
       "      <th>x4</th>\n",
       "      <th>x11</th>\n",
       "      <th>x1</th>\n",
       "      <th>x7</th>\n",
       "      <th>x2</th>\n",
       "      <th>x20</th>\n",
       "      <th>x6</th>\n",
       "      <th>x10</th>\n",
       "      <th>x14</th>\n",
       "      <th>x16</th>\n",
       "      <th>x19</th>\n",
       "      <th>x18</th>\n",
       "      <th>x8</th>\n",
       "      <th>x13</th>\n",
       "      <th>x15</th>\n",
       "      <th>x12</th>\n",
       "      <th>x9</th>\n",
       "      <th>x3</th>\n",
       "    </tr>\n",
       "  </thead>\n",
       "  <tbody>\n",
       "    <tr>\n",
       "      <th>0</th>\n",
       "      <td>0.518083</td>\n",
       "      <td>0.693310</td>\n",
       "      <td>-0.003208</td>\n",
       "      <td>0.349293</td>\n",
       "      <td>-0.779954</td>\n",
       "      <td>-0.075674</td>\n",
       "      <td>-0.706184</td>\n",
       "      <td>-0.224453</td>\n",
       "      <td>0.904443</td>\n",
       "      <td>0.963249</td>\n",
       "      <td>-0.698611</td>\n",
       "      <td>-0.548869</td>\n",
       "      <td>0.021443</td>\n",
       "      <td>-0.902659</td>\n",
       "      <td>0.884412</td>\n",
       "      <td>-0.727568</td>\n",
       "      <td>-0.646115</td>\n",
       "      <td>-0.080247</td>\n",
       "      <td>-0.123357</td>\n",
       "      <td>0.672529</td>\n",
       "    </tr>\n",
       "    <tr>\n",
       "      <th>1</th>\n",
       "      <td>0.908806</td>\n",
       "      <td>-0.688318</td>\n",
       "      <td>-0.001827</td>\n",
       "      <td>-0.264764</td>\n",
       "      <td>0.390311</td>\n",
       "      <td>-0.690021</td>\n",
       "      <td>0.582232</td>\n",
       "      <td>0.587077</td>\n",
       "      <td>-0.677736</td>\n",
       "      <td>-0.254752</td>\n",
       "      <td>0.005309</td>\n",
       "      <td>0.096591</td>\n",
       "      <td>0.495403</td>\n",
       "      <td>-0.876956</td>\n",
       "      <td>0.907722</td>\n",
       "      <td>-0.752740</td>\n",
       "      <td>0.831761</td>\n",
       "      <td>-0.052577</td>\n",
       "      <td>-0.438134</td>\n",
       "      <td>-0.549114</td>\n",
       "    </tr>\n",
       "    <tr>\n",
       "      <th>2</th>\n",
       "      <td>-0.950597</td>\n",
       "      <td>0.889743</td>\n",
       "      <td>-0.304298</td>\n",
       "      <td>-0.449903</td>\n",
       "      <td>-0.444217</td>\n",
       "      <td>-0.664889</td>\n",
       "      <td>0.819041</td>\n",
       "      <td>0.253700</td>\n",
       "      <td>-0.239804</td>\n",
       "      <td>0.507929</td>\n",
       "      <td>-0.898082</td>\n",
       "      <td>0.700114</td>\n",
       "      <td>-0.153918</td>\n",
       "      <td>0.837453</td>\n",
       "      <td>-0.102619</td>\n",
       "      <td>0.119751</td>\n",
       "      <td>-0.337819</td>\n",
       "      <td>0.108287</td>\n",
       "      <td>-0.568088</td>\n",
       "      <td>-0.159146</td>\n",
       "    </tr>\n",
       "    <tr>\n",
       "      <th>3</th>\n",
       "      <td>0.206601</td>\n",
       "      <td>-0.180585</td>\n",
       "      <td>-0.604376</td>\n",
       "      <td>-0.565046</td>\n",
       "      <td>0.906402</td>\n",
       "      <td>-0.938988</td>\n",
       "      <td>-0.887834</td>\n",
       "      <td>-0.004634</td>\n",
       "      <td>-0.100210</td>\n",
       "      <td>0.516289</td>\n",
       "      <td>0.499385</td>\n",
       "      <td>-0.585651</td>\n",
       "      <td>-0.547363</td>\n",
       "      <td>0.650880</td>\n",
       "      <td>0.173404</td>\n",
       "      <td>-0.007164</td>\n",
       "      <td>0.413953</td>\n",
       "      <td>0.738910</td>\n",
       "      <td>0.879467</td>\n",
       "      <td>-0.509059</td>\n",
       "    </tr>\n",
       "    <tr>\n",
       "      <th>4</th>\n",
       "      <td>0.528141</td>\n",
       "      <td>-0.141617</td>\n",
       "      <td>0.189632</td>\n",
       "      <td>-0.630879</td>\n",
       "      <td>0.820308</td>\n",
       "      <td>0.460585</td>\n",
       "      <td>-0.937833</td>\n",
       "      <td>-0.799150</td>\n",
       "      <td>0.050300</td>\n",
       "      <td>-0.684584</td>\n",
       "      <td>-0.162709</td>\n",
       "      <td>-0.708892</td>\n",
       "      <td>-0.051065</td>\n",
       "      <td>0.993913</td>\n",
       "      <td>-0.935680</td>\n",
       "      <td>0.723668</td>\n",
       "      <td>0.990327</td>\n",
       "      <td>-0.124565</td>\n",
       "      <td>-0.214211</td>\n",
       "      <td>-0.045806</td>\n",
       "    </tr>\n",
       "  </tbody>\n",
       "</table>\n",
       "</div>"
      ],
      "text/plain": [
       "         x5       x17        x4       x11        x1        x7        x2  \\\n",
       "0  0.518083  0.693310 -0.003208  0.349293 -0.779954 -0.075674 -0.706184   \n",
       "1  0.908806 -0.688318 -0.001827 -0.264764  0.390311 -0.690021  0.582232   \n",
       "2 -0.950597  0.889743 -0.304298 -0.449903 -0.444217 -0.664889  0.819041   \n",
       "3  0.206601 -0.180585 -0.604376 -0.565046  0.906402 -0.938988 -0.887834   \n",
       "4  0.528141 -0.141617  0.189632 -0.630879  0.820308  0.460585 -0.937833   \n",
       "\n",
       "        x20        x6       x10       x14       x16       x19       x18  \\\n",
       "0 -0.224453  0.904443  0.963249 -0.698611 -0.548869  0.021443 -0.902659   \n",
       "1  0.587077 -0.677736 -0.254752  0.005309  0.096591  0.495403 -0.876956   \n",
       "2  0.253700 -0.239804  0.507929 -0.898082  0.700114 -0.153918  0.837453   \n",
       "3 -0.004634 -0.100210  0.516289  0.499385 -0.585651 -0.547363  0.650880   \n",
       "4 -0.799150  0.050300 -0.684584 -0.162709 -0.708892 -0.051065  0.993913   \n",
       "\n",
       "         x8       x13       x15       x12        x9        x3  \n",
       "0  0.884412 -0.727568 -0.646115 -0.080247 -0.123357  0.672529  \n",
       "1  0.907722 -0.752740  0.831761 -0.052577 -0.438134 -0.549114  \n",
       "2 -0.102619  0.119751 -0.337819  0.108287 -0.568088 -0.159146  \n",
       "3  0.173404 -0.007164  0.413953  0.738910  0.879467 -0.509059  \n",
       "4 -0.935680  0.723668  0.990327 -0.124565 -0.214211 -0.045806  "
      ]
     },
     "execution_count": 9,
     "metadata": {},
     "output_type": "execute_result"
    }
   ],
   "source": [
    "x.head()"
   ]
  },
  {
   "cell_type": "code",
   "execution_count": 10,
   "metadata": {},
   "outputs": [
    {
     "data": {
      "text/plain": [
       "(10000, 20)"
      ]
     },
     "execution_count": 10,
     "metadata": {},
     "output_type": "execute_result"
    }
   ],
   "source": [
    "x.shape"
   ]
  },
  {
   "cell_type": "markdown",
   "metadata": {},
   "source": [
    "Split dataset and labels into train, validate and test"
   ]
  },
  {
   "cell_type": "code",
   "execution_count": 11,
   "metadata": {
    "collapsed": true
   },
   "outputs": [],
   "source": [
    "x_trn, x_val, x_test = x.iloc[:8000, :], x.iloc[8000:9000, :], x.iloc[9000:, :]\n",
    "y_trn, y_val, y_test = y[:8000], y[8000:9000], y[9000:]"
   ]
  },
  {
   "cell_type": "code",
   "execution_count": 12,
   "metadata": {},
   "outputs": [
    {
     "data": {
      "text/plain": [
       "((8000, 20), (1000, 20), (1000, 20))"
      ]
     },
     "execution_count": 12,
     "metadata": {},
     "output_type": "execute_result"
    }
   ],
   "source": [
    "x_trn.shape, x_val.shape, x_test.shape"
   ]
  },
  {
   "cell_type": "code",
   "execution_count": 13,
   "metadata": {},
   "outputs": [
    {
     "data": {
      "text/plain": [
       "((8000,), (1000,), (1000,))"
      ]
     },
     "execution_count": 13,
     "metadata": {},
     "output_type": "execute_result"
    }
   ],
   "source": [
    "y_trn.shape, y_val.shape, y_test.shape"
   ]
  },
  {
   "cell_type": "markdown",
   "metadata": {},
   "source": [
    "Train a model"
   ]
  },
  {
   "cell_type": "code",
   "execution_count": 14,
   "metadata": {
    "collapsed": true
   },
   "outputs": [],
   "source": [
    "m = RandomForestRegressor(n_estimators=200, max_features=0.5).fit(x_trn, y_trn)"
   ]
  },
  {
   "cell_type": "markdown",
   "metadata": {},
   "source": [
    "Score and evaluate the model"
   ]
  },
  {
   "cell_type": "code",
   "execution_count": 15,
   "metadata": {
    "collapsed": true
   },
   "outputs": [],
   "source": [
    "def rmse(x,y): \n",
    "    return math.sqrt(((x-y)**2).mean())\n",
    "\n",
    "def print_score(m, pass_back=False):\n",
    "    res = [rmse(m.predict(x_trn), y_trn), rmse(m.predict(x_val), y_val),\n",
    "                m.score(x_trn, y_trn), m.score(x_val, y_val)]\n",
    "    print(f'Train RMSE: {round(res[0], 3)}')\n",
    "    print(f'Validation RMSE: {round(res[1], 3)}')\n",
    "    print(f'Train R-Squared: {round(res[2], 3)}')\n",
    "    print(f'Validation R-Squared: {round(res[3], 3)}')\n",
    "    if pass_back:\n",
    "        return res"
   ]
  },
  {
   "cell_type": "code",
   "execution_count": 16,
   "metadata": {},
   "outputs": [
    {
     "name": "stdout",
     "output_type": "stream",
     "text": [
      "Train RMSE: 2.283\n",
      "Validation RMSE: 5.95\n",
      "Train R-Squared: 0.973\n",
      "Validation R-Squared: 0.813\n"
     ]
    }
   ],
   "source": [
    "scores = print_score(m, pass_back=True)\n",
    "val_rmse = scores[1]"
   ]
  },
  {
   "cell_type": "markdown",
   "metadata": {},
   "source": [
    "Plot labels of training data vs predictions of training data"
   ]
  },
  {
   "cell_type": "code",
   "execution_count": 17,
   "metadata": {},
   "outputs": [
    {
     "data": {
      "image/png": "[encoded data removed]",
      "text/plain": [
       "<matplotlib.figure.Figure at 0x1135716a0>"
      ]
     },
     "metadata": {},
     "output_type": "display_data"
    }
   ],
   "source": [
    "plt.scatter(y_trn, m.predict(x_trn), alpha=0.2)\n",
    "plt.show()"
   ]
  },
  {
   "cell_type": "markdown",
   "metadata": {},
   "source": [
    "Plot predictions of validation data vs true labels"
   ]
  },
  {
   "cell_type": "code",
   "execution_count": 18,
   "metadata": {},
   "outputs": [
    {
     "data": {
      "image/png": "[encoded data removed]",
      "text/plain": [
       "<matplotlib.figure.Figure at 0x10c687fd0>"
      ]
     },
     "metadata": {},
     "output_type": "display_data"
    }
   ],
   "source": [
    "plt.scatter(y_val, m.predict(x_val), alpha=0.2)\n",
    "plt.show()"
   ]
  },
  {
   "cell_type": "markdown",
   "metadata": {
    "collapsed": true
   },
   "source": [
    "Evaluate Feature importance\n",
    "Using the model trained on all features. For each feature, take the validation set as it us but shuffle the order of the values in that feature one at a time. Make predictions on this input with one feature shuffled and look at the error and how much effect shuffling the values in this one column had on the error score."
   ]
  },
  {
   "cell_type": "code",
   "execution_count": 21,
   "metadata": {
    "collapsed": true
   },
   "outputs": [],
   "source": [
    "df_importance = pd.DataFrame()\n",
    "for col in x_val.columns:\n",
    "    x_shuffle = x_val.copy()\n",
    "    shuffled_column = x_shuffle[col].values\n",
    "    np.random.shuffle(shuffled_column)\n",
    "    x_shuffle[col] = shuffled_column\n",
    "    rmse_score = rmse(y_val, m.predict(x_shuffle))\n",
    "    row = {}\n",
    "    row['col'] = col\n",
    "    row['score'] = rmse_score\n",
    "    df_importance = df_importance.append(row, ignore_index=True)\n",
    "\n",
    "df_importance = df_importance.sort_values(by='score')"
   ]
  },
  {
   "cell_type": "code",
   "execution_count": 22,
   "metadata": {},
   "outputs": [
    {
     "data": {
      "text/html": [
       "<div>\n",
       "<style>\n",
       "    .dataframe thead tr:only-child th {\n",
       "        text-align: right;\n",
       "    }\n",
       "\n",
       "    .dataframe thead th {\n",
       "        text-align: left;\n",
       "    }\n",
       "\n",
       "    .dataframe tbody tr th {\n",
       "        vertical-align: top;\n",
       "    }\n",
       "</style>\n",
       "<table border=\"1\" class=\"dataframe\">\n",
       "  <thead>\n",
       "    <tr style=\"text-align: right;\">\n",
       "      <th></th>\n",
       "      <th>col</th>\n",
       "      <th>score</th>\n",
       "      <th>error_diff</th>\n",
       "    </tr>\n",
       "  </thead>\n",
       "  <tbody>\n",
       "    <tr>\n",
       "      <th>18</th>\n",
       "      <td>x9</td>\n",
       "      <td>9.041591</td>\n",
       "      <td>3.091812</td>\n",
       "    </tr>\n",
       "    <tr>\n",
       "      <th>12</th>\n",
       "      <td>x19</td>\n",
       "      <td>8.496055</td>\n",
       "      <td>2.546276</td>\n",
       "    </tr>\n",
       "    <tr>\n",
       "      <th>14</th>\n",
       "      <td>x8</td>\n",
       "      <td>8.242561</td>\n",
       "      <td>2.292782</td>\n",
       "    </tr>\n",
       "    <tr>\n",
       "      <th>13</th>\n",
       "      <td>x18</td>\n",
       "      <td>8.172717</td>\n",
       "      <td>2.222938</td>\n",
       "    </tr>\n",
       "    <tr>\n",
       "      <th>1</th>\n",
       "      <td>x17</td>\n",
       "      <td>7.639553</td>\n",
       "      <td>1.689774</td>\n",
       "    </tr>\n",
       "    <tr>\n",
       "      <th>5</th>\n",
       "      <td>x7</td>\n",
       "      <td>7.568362</td>\n",
       "      <td>1.618583</td>\n",
       "    </tr>\n",
       "    <tr>\n",
       "      <th>11</th>\n",
       "      <td>x16</td>\n",
       "      <td>6.946172</td>\n",
       "      <td>0.996393</td>\n",
       "    </tr>\n",
       "    <tr>\n",
       "      <th>8</th>\n",
       "      <td>x6</td>\n",
       "      <td>6.902867</td>\n",
       "      <td>0.953088</td>\n",
       "    </tr>\n",
       "    <tr>\n",
       "      <th>16</th>\n",
       "      <td>x15</td>\n",
       "      <td>6.525950</td>\n",
       "      <td>0.576171</td>\n",
       "    </tr>\n",
       "    <tr>\n",
       "      <th>0</th>\n",
       "      <td>x5</td>\n",
       "      <td>6.484296</td>\n",
       "      <td>0.534517</td>\n",
       "    </tr>\n",
       "  </tbody>\n",
       "</table>\n",
       "</div>"
      ],
      "text/plain": [
       "    col     score  error_diff\n",
       "18   x9  9.041591    3.091812\n",
       "12  x19  8.496055    2.546276\n",
       "14   x8  8.242561    2.292782\n",
       "13  x18  8.172717    2.222938\n",
       "1   x17  7.639553    1.689774\n",
       "5    x7  7.568362    1.618583\n",
       "11  x16  6.946172    0.996393\n",
       "8    x6  6.902867    0.953088\n",
       "16  x15  6.525950    0.576171\n",
       "0    x5  6.484296    0.534517"
      ]
     },
     "execution_count": 22,
     "metadata": {},
     "output_type": "execute_result"
    }
   ],
   "source": [
    "top_ten_fi_vars = df_importance.reset_index(drop=True).iloc[:20, 0].values\n",
    "\n",
    "df_importance['error_diff'] = df_importance['score'] - val_rmse\n",
    "\n",
    "error_diffs = {row['col']: row['error_diff'] for i, row in df_importance.iterrows()}\n",
    "\n",
    "df_importance = df_importance.sort_values(by='error_diff', ascending=False)\n",
    "df_importance.head(10)"
   ]
  },
  {
   "cell_type": "code",
   "execution_count": 23,
   "metadata": {},
   "outputs": [
    {
     "data": {
      "image/png": "[encoded data removed]",
      "text/plain": [
       "<matplotlib.figure.Figure at 0x10c68bdd8>"
      ]
     },
     "metadata": {},
     "output_type": "display_data"
    }
   ],
   "source": [
    "plt.barh(y=np.arange(20), width=df_importance['error_diff'], tick_label=df_importance['col'])\n",
    "plt.show()"
   ]
  },
  {
   "cell_type": "markdown",
   "metadata": {},
   "source": [
    "Using this we can see what variables are important and what are not important. The scores on the x axis are not as meaningful as comparing each variable to each other. We can see here that the features ranked by error difference is in the order that we would have expected. Although there is some variation."
   ]
  },
  {
   "cell_type": "code",
   "execution_count": null,
   "metadata": {
    "collapsed": true
   },
   "outputs": [],
   "source": []
  }
 ],
 "metadata": {
  "kernelspec": {
   "display_name": "Python 3",
   "language": "python",
   "name": "python3"
  },
  "language_info": {
   "codemirror_mode": {
    "name": "ipython",
    "version": 3
   },
   "file_extension": ".py",
   "mimetype": "text/x-python",
   "name": "python",
   "nbconvert_exporter": "python",
   "pygments_lexer": "ipython3",
   "version": "3.6.3"
  }
 },
 "nbformat": 4,
 "nbformat_minor": 2
}
